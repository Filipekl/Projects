{
 "cells": [
  {
   "cell_type": "markdown",
   "metadata": {},
   "source": [
    "Multivariate time series prediction using LSTMs.  \n",
    "Climate dataset with hourly granularity."
   ]
  },
  {
   "cell_type": "code",
   "execution_count": 3,
   "metadata": {
    "ExecuteTime": {
     "end_time": "2018-11-15T06:11:02.547006Z",
     "start_time": "2018-11-15T06:10:59.694021Z"
    }
   },
   "outputs": [
    {
     "name": "stderr",
     "output_type": "stream",
     "text": [
      "Using TensorFlow backend.\n"
     ]
    }
   ],
   "source": [
    "import numpy as np\n",
    "import pandas as pd\n",
    "import seaborn as sns\n",
    "\n",
    "from sklearn.metrics import mean_squared_error, mean_absolute_error\n",
    "from sklearn.model_selection import train_test_split\n",
    "from sklearn.preprocessing import MinMaxScaler\n",
    "from tensorflow import keras\n",
    "from keras.models import Sequential\n",
    "from keras.layers import Dense, LSTM, Dropout\n",
    "import tensorflow as tf"
   ]
  },
  {
   "cell_type": "code",
   "execution_count": 4,
   "metadata": {
    "ExecuteTime": {
     "end_time": "2018-11-15T06:11:02.562007Z",
     "start_time": "2018-11-15T06:11:02.551006Z"
    },
    "collapsed": true
   },
   "outputs": [],
   "source": [
    "%matplotlib inline"
   ]
  },
  {
   "cell_type": "markdown",
   "metadata": {},
   "source": [
    "# Load Dataset"
   ]
  },
  {
   "cell_type": "code",
   "execution_count": 5,
   "metadata": {
    "ExecuteTime": {
     "end_time": "2018-11-15T06:11:02.796005Z",
     "start_time": "2018-11-15T06:11:02.564008Z"
    },
    "collapsed": true
   },
   "outputs": [],
   "source": [
    "climate_hour = pd.read_csv('data/climate_hour.csv')"
   ]
  },
  {
   "cell_type": "code",
   "execution_count": 6,
   "metadata": {
    "ExecuteTime": {
     "end_time": "2018-11-15T06:11:02.825006Z",
     "start_time": "2018-11-15T06:11:02.799007Z"
    }
   },
   "outputs": [
    {
     "data": {
      "text/html": [
       "<div>\n",
       "<style scoped>\n",
       "    .dataframe tbody tr th:only-of-type {\n",
       "        vertical-align: middle;\n",
       "    }\n",
       "\n",
       "    .dataframe tbody tr th {\n",
       "        vertical-align: top;\n",
       "    }\n",
       "\n",
       "    .dataframe thead th {\n",
       "        text-align: right;\n",
       "    }\n",
       "</style>\n",
       "<table border=\"1\" class=\"dataframe\">\n",
       "  <thead>\n",
       "    <tr style=\"text-align: right;\">\n",
       "      <th></th>\n",
       "      <th>Date Time</th>\n",
       "      <th>p (mbar)</th>\n",
       "      <th>T (degC)</th>\n",
       "      <th>Tpot (K)</th>\n",
       "      <th>Tdew (degC)</th>\n",
       "      <th>rh (%)</th>\n",
       "      <th>VPmax (mbar)</th>\n",
       "      <th>VPact (mbar)</th>\n",
       "      <th>VPdef (mbar)</th>\n",
       "      <th>sh (g/kg)</th>\n",
       "      <th>H2OC (mmol/mol)</th>\n",
       "      <th>rho (g/m**3)</th>\n",
       "      <th>wv (m/s)</th>\n",
       "      <th>max. wv (m/s)</th>\n",
       "      <th>wd (deg)</th>\n",
       "    </tr>\n",
       "  </thead>\n",
       "  <tbody>\n",
       "    <tr>\n",
       "      <th>0</th>\n",
       "      <td>01.01.2009 01:00:00</td>\n",
       "      <td>996.50</td>\n",
       "      <td>-8.05</td>\n",
       "      <td>265.38</td>\n",
       "      <td>-8.78</td>\n",
       "      <td>94.4</td>\n",
       "      <td>3.33</td>\n",
       "      <td>3.14</td>\n",
       "      <td>0.19</td>\n",
       "      <td>1.96</td>\n",
       "      <td>3.15</td>\n",
       "      <td>1307.86</td>\n",
       "      <td>0.21</td>\n",
       "      <td>0.63</td>\n",
       "      <td>192.7</td>\n",
       "    </tr>\n",
       "    <tr>\n",
       "      <th>1</th>\n",
       "      <td>01.01.2009 02:00:00</td>\n",
       "      <td>996.62</td>\n",
       "      <td>-8.88</td>\n",
       "      <td>264.54</td>\n",
       "      <td>-9.77</td>\n",
       "      <td>93.2</td>\n",
       "      <td>3.12</td>\n",
       "      <td>2.90</td>\n",
       "      <td>0.21</td>\n",
       "      <td>1.81</td>\n",
       "      <td>2.91</td>\n",
       "      <td>1312.25</td>\n",
       "      <td>0.25</td>\n",
       "      <td>0.63</td>\n",
       "      <td>190.3</td>\n",
       "    </tr>\n",
       "    <tr>\n",
       "      <th>2</th>\n",
       "      <td>01.01.2009 03:00:00</td>\n",
       "      <td>996.84</td>\n",
       "      <td>-8.81</td>\n",
       "      <td>264.59</td>\n",
       "      <td>-9.66</td>\n",
       "      <td>93.5</td>\n",
       "      <td>3.13</td>\n",
       "      <td>2.93</td>\n",
       "      <td>0.20</td>\n",
       "      <td>1.83</td>\n",
       "      <td>2.94</td>\n",
       "      <td>1312.18</td>\n",
       "      <td>0.18</td>\n",
       "      <td>0.63</td>\n",
       "      <td>167.2</td>\n",
       "    </tr>\n",
       "    <tr>\n",
       "      <th>3</th>\n",
       "      <td>01.01.2009 04:00:00</td>\n",
       "      <td>996.99</td>\n",
       "      <td>-9.05</td>\n",
       "      <td>264.34</td>\n",
       "      <td>-10.02</td>\n",
       "      <td>92.6</td>\n",
       "      <td>3.07</td>\n",
       "      <td>2.85</td>\n",
       "      <td>0.23</td>\n",
       "      <td>1.78</td>\n",
       "      <td>2.85</td>\n",
       "      <td>1313.61</td>\n",
       "      <td>0.10</td>\n",
       "      <td>0.38</td>\n",
       "      <td>240.0</td>\n",
       "    </tr>\n",
       "    <tr>\n",
       "      <th>4</th>\n",
       "      <td>01.01.2009 05:00:00</td>\n",
       "      <td>997.46</td>\n",
       "      <td>-9.63</td>\n",
       "      <td>263.72</td>\n",
       "      <td>-10.65</td>\n",
       "      <td>92.2</td>\n",
       "      <td>2.94</td>\n",
       "      <td>2.71</td>\n",
       "      <td>0.23</td>\n",
       "      <td>1.69</td>\n",
       "      <td>2.71</td>\n",
       "      <td>1317.19</td>\n",
       "      <td>0.40</td>\n",
       "      <td>0.88</td>\n",
       "      <td>157.0</td>\n",
       "    </tr>\n",
       "  </tbody>\n",
       "</table>\n",
       "</div>"
      ],
      "text/plain": [
       "             Date Time  p (mbar)  T (degC)  Tpot (K)  Tdew (degC)  rh (%)  \\\n",
       "0  01.01.2009 01:00:00    996.50     -8.05    265.38        -8.78    94.4   \n",
       "1  01.01.2009 02:00:00    996.62     -8.88    264.54        -9.77    93.2   \n",
       "2  01.01.2009 03:00:00    996.84     -8.81    264.59        -9.66    93.5   \n",
       "3  01.01.2009 04:00:00    996.99     -9.05    264.34       -10.02    92.6   \n",
       "4  01.01.2009 05:00:00    997.46     -9.63    263.72       -10.65    92.2   \n",
       "\n",
       "   VPmax (mbar)  VPact (mbar)  VPdef (mbar)  sh (g/kg)  H2OC (mmol/mol)  \\\n",
       "0          3.33          3.14          0.19       1.96             3.15   \n",
       "1          3.12          2.90          0.21       1.81             2.91   \n",
       "2          3.13          2.93          0.20       1.83             2.94   \n",
       "3          3.07          2.85          0.23       1.78             2.85   \n",
       "4          2.94          2.71          0.23       1.69             2.71   \n",
       "\n",
       "   rho (g/m**3)  wv (m/s)  max. wv (m/s)  wd (deg)  \n",
       "0       1307.86      0.21           0.63     192.7  \n",
       "1       1312.25      0.25           0.63     190.3  \n",
       "2       1312.18      0.18           0.63     167.2  \n",
       "3       1313.61      0.10           0.38     240.0  \n",
       "4       1317.19      0.40           0.88     157.0  "
      ]
     },
     "execution_count": 6,
     "metadata": {},
     "output_type": "execute_result"
    }
   ],
   "source": [
    "climate_hour.head()"
   ]
  },
  {
   "cell_type": "markdown",
   "metadata": {},
   "source": [
    "# Data Exploration"
   ]
  },
  {
   "cell_type": "code",
   "execution_count": 5,
   "metadata": {
    "ExecuteTime": {
     "end_time": "2018-11-15T05:38:59.616068Z",
     "start_time": "2018-11-15T05:38:59.597066Z"
    },
    "scrolled": true
   },
   "outputs": [
    {
     "data": {
      "text/plain": [
       "Date Time          0\n",
       "p (mbar)           0\n",
       "T (degC)           0\n",
       "Tpot (K)           0\n",
       "Tdew (degC)        0\n",
       "rh (%)             0\n",
       "VPmax (mbar)       0\n",
       "VPact (mbar)       0\n",
       "VPdef (mbar)       0\n",
       "sh (g/kg)          0\n",
       "H2OC (mmol/mol)    0\n",
       "rho (g/m**3)       0\n",
       "wv (m/s)           0\n",
       "max. wv (m/s)      0\n",
       "wd (deg)           0\n",
       "dtype: int64"
      ]
     },
     "execution_count": 5,
     "metadata": {},
     "output_type": "execute_result"
    }
   ],
   "source": [
    "climate_hour.isnull().sum()"
   ]
  },
  {
   "cell_type": "markdown",
   "metadata": {},
   "source": [
    "As expected, we see a seasonal trend to the data. It appears in the given data that there is a slight trend upward."
   ]
  },
  {
   "cell_type": "code",
   "execution_count": 6,
   "metadata": {
    "ExecuteTime": {
     "end_time": "2018-11-15T05:39:07.049065Z",
     "start_time": "2018-11-15T05:39:06.813067Z"
    }
   },
   "outputs": [
    {
     "data": {
      "text/plain": [
       "<matplotlib.axes._subplots.AxesSubplot at 0x262fac5f710>"
      ]
     },
     "execution_count": 6,
     "metadata": {},
     "output_type": "execute_result"
    },
    {
     "data": {
      "image/png": "[encoded data removed]",
      "text/plain": [
       "<Figure size 432x288 with 1 Axes>"
      ]
     },
     "metadata": {},
     "output_type": "display_data"
    }
   ],
   "source": [
    "climate_hour[['Date Time', 'T (degC)']].plot()"
   ]
  },
  {
   "cell_type": "code",
   "execution_count": 7,
   "metadata": {
    "ExecuteTime": {
     "end_time": "2018-11-15T05:39:15.587066Z",
     "start_time": "2018-11-15T05:39:15.431067Z"
    }
   },
   "outputs": [
    {
     "data": {
      "text/plain": [
       "<matplotlib.axes._subplots.AxesSubplot at 0x262fad82898>"
      ]
     },
     "execution_count": 7,
     "metadata": {},
     "output_type": "execute_result"
    },
    {
     "data": {
      "image/png": "[encoded data removed]",
      "text/plain": [
       "<Figure size 432x288 with 1 Axes>"
      ]
     },
     "metadata": {},
     "output_type": "display_data"
    }
   ],
   "source": [
    "climate_hour['T (degC)'].hist(bins=50)"
   ]
  },
  {
   "cell_type": "markdown",
   "metadata": {},
   "source": [
    "There are some features that are obiviously strongly correlated which could mean removal from the model."
   ]
  },
  {
   "cell_type": "code",
   "execution_count": 8,
   "metadata": {
    "ExecuteTime": {
     "end_time": "2018-11-15T05:39:32.596080Z",
     "start_time": "2018-11-15T05:39:31.998068Z"
    }
   },
   "outputs": [
    {
     "data": {
      "text/plain": [
       "<seaborn.axisgrid.PairGrid at 0x262fadd6a90>"
      ]
     },
     "execution_count": 8,
     "metadata": {},
     "output_type": "execute_result"
    },
    {
     "data": {
      "image/png": "[encoded data removed]",
      "text/plain": [
       "<Figure size 360x360 with 6 Axes>"
      ]
     },
     "metadata": {},
     "output_type": "display_data"
    }
   ],
   "source": [
    "sns.pairplot(climate_hour[['T (degC)', 'Tpot (K)']].sample(frac=.3))"
   ]
  },
  {
   "cell_type": "code",
   "execution_count": 9,
   "metadata": {
    "ExecuteTime": {
     "end_time": "2018-11-15T05:39:42.800449Z",
     "start_time": "2018-11-15T05:39:41.294448Z"
    },
    "scrolled": false
   },
   "outputs": [
    {
     "data": {
      "text/plain": [
       "<seaborn.axisgrid.PairGrid at 0x262fb573978>"
      ]
     },
     "execution_count": 9,
     "metadata": {},
     "output_type": "execute_result"
    },
    {
     "data": {
      "image/png": "[encoded data removed]",
      "text/plain": [
       "<Figure size 540x540 with 12 Axes>"
      ]
     },
     "metadata": {},
     "output_type": "display_data"
    }
   ],
   "source": [
    "sns.pairplot(climate_hour[['sh (g/kg)', 'VPact (mbar)', 'H2OC (mmol/mol)']].sample(frac=.3))"
   ]
  },
  {
   "cell_type": "markdown",
   "metadata": {},
   "source": [
    "Interestingly, the highest wind velocities are in the middle of the temperature distribution"
   ]
  },
  {
   "cell_type": "code",
   "execution_count": 12,
   "metadata": {
    "ExecuteTime": {
     "end_time": "2018-11-15T05:40:29.283779Z",
     "start_time": "2018-11-15T05:40:28.909782Z"
    }
   },
   "outputs": [
    {
     "data": {
      "text/plain": [
       "<seaborn.axisgrid.PairGrid at 0x262fd255668>"
      ]
     },
     "execution_count": 12,
     "metadata": {},
     "output_type": "execute_result"
    },
    {
     "data": {
      "image/png": "[encoded data removed]",
      "text/plain": [
       "<Figure size 360x360 with 6 Axes>"
      ]
     },
     "metadata": {},
     "output_type": "display_data"
    }
   ],
   "source": [
    "sns.pairplot(climate_hour[['max. wv (m/s)', 'T (degC)']].sample(frac=.05))"
   ]
  },
  {
   "cell_type": "markdown",
   "metadata": {},
   "source": [
    "# Prepare Data for Modeling"
   ]
  },
  {
   "cell_type": "code",
   "execution_count": 7,
   "metadata": {
    "ExecuteTime": {
     "end_time": "2018-11-15T06:11:17.080863Z",
     "start_time": "2018-11-15T06:11:04.767302Z"
    },
    "collapsed": true,
    "scrolled": true
   },
   "outputs": [],
   "source": [
    "climate_hour_index = climate_hour['Date Time']\n",
    "climate_hour['Date Time'] = pd.to_datetime(climate_hour['Date Time'])\n",
    "climate_hour['y'] = climate_hour['T (degC)'].shift(periods=-1)\n",
    "climate_hour.dropna(inplace=True)\n",
    "df_dev = climate_hour.loc[climate_hour['Date Time'] < '2015-01-01']\n",
    "df_test = climate_hour.loc[climate_hour['Date Time'] >= '2014-12-31']"
   ]
  },
  {
   "cell_type": "code",
   "execution_count": 8,
   "metadata": {
    "ExecuteTime": {
     "end_time": "2018-11-15T06:11:17.211851Z",
     "start_time": "2018-11-15T06:11:17.081847Z"
    },
    "scrolled": false
   },
   "outputs": [
    {
     "name": "stderr",
     "output_type": "stream",
     "text": [
      "C:\\Anaconda3\\lib\\site-packages\\pandas\\core\\frame.py:3697: SettingWithCopyWarning: \n",
      "A value is trying to be set on a copy of a slice from a DataFrame\n",
      "\n",
      "See the caveats in the documentation: http://pandas.pydata.org/pandas-docs/stable/indexing.html#indexing-view-versus-copy\n",
      "  errors=errors)\n"
     ]
    }
   ],
   "source": [
    "df_dev.drop('Date Time', axis=1, inplace=True)\n",
    "df_test.drop('Date Time', axis=1, inplace=True)"
   ]
  },
  {
   "cell_type": "code",
   "execution_count": 9,
   "metadata": {
    "ExecuteTime": {
     "end_time": "2018-11-15T06:11:17.259847Z",
     "start_time": "2018-11-15T06:11:17.218849Z"
    },
    "collapsed": true
   },
   "outputs": [],
   "source": [
    "scaler_x = MinMaxScaler()\n",
    "scaler_y = MinMaxScaler()\n",
    "df_dev_x = scaler_x.fit_transform(df_dev.iloc[:, :-1])\n",
    "df_dev_y = scaler_y.fit_transform(df_dev.iloc[:, -1].values.reshape(-1, 1))\n",
    "df_test_x = scaler_x.transform(df_test.iloc[:, :-1])\n",
    "df_test_y = scaler_y.transform(df_test.iloc[:, -1].values.reshape(-1, 1))\n",
    "\n",
    "df_dev = np.append(df_dev_x, df_dev_y, axis=1)\n",
    "df_test = np.append(df_test_x, df_test_y, axis=1)"
   ]
  },
  {
   "cell_type": "code",
   "execution_count": 10,
   "metadata": {
    "ExecuteTime": {
     "end_time": "2018-11-15T06:11:17.275849Z",
     "start_time": "2018-11-15T06:11:17.263849Z"
    },
    "collapsed": true
   },
   "outputs": [],
   "source": [
    "def create_dataset(data, window=1):\n",
    "    new_x = np.ndarray((data.shape[0]-window, window, data.shape[1]-1))\n",
    "    if isinstance(data, pd.DataFrame):\n",
    "        data = data.values\n",
    "    for idx in range(window, data.shape[0]):\n",
    "        new_x[idx-window] = data[idx-window: idx, :-1]\n",
    "        \n",
    "    new_y = data[window:, -1].reshape(-1, 1)\n",
    "    return new_x, new_y"
   ]
  },
  {
   "cell_type": "code",
   "execution_count": 11,
   "metadata": {
    "ExecuteTime": {
     "end_time": "2018-11-15T06:11:17.450849Z",
     "start_time": "2018-11-15T06:11:17.278850Z"
    },
    "collapsed": true
   },
   "outputs": [],
   "source": [
    "df_dev_x, df_dev_y = create_dataset(df_dev, window=24)\n",
    "df_test_x, df_test_y = create_dataset(df_test, window=24)"
   ]
  },
  {
   "cell_type": "markdown",
   "metadata": {},
   "source": [
    "# Pre modeling error handling"
   ]
  },
  {
   "cell_type": "markdown",
   "metadata": {},
   "source": [
    "Run sometimes if fitting gives an error"
   ]
  },
  {
   "cell_type": "code",
   "execution_count": 18,
   "metadata": {
    "ExecuteTime": {
     "end_time": "2018-11-15T05:41:17.668293Z",
     "start_time": "2018-11-15T05:41:16.581294Z"
    },
    "collapsed": true
   },
   "outputs": [],
   "source": [
    "sess = tf.Session(config=tf.ConfigProto(log_device_placement=True))"
   ]
  },
  {
   "cell_type": "code",
   "execution_count": 19,
   "metadata": {
    "ExecuteTime": {
     "end_time": "2018-11-15T05:41:17.703294Z",
     "start_time": "2018-11-15T05:41:17.669293Z"
    }
   },
   "outputs": [
    {
     "name": "stdout",
     "output_type": "stream",
     "text": [
      "[name: \"/device:CPU:0\"\n",
      "device_type: \"CPU\"\n",
      "memory_limit: 268435456\n",
      "locality {\n",
      "}\n",
      "incarnation: 12473532362692194108\n",
      ", name: \"/device:GPU:0\"\n",
      "device_type: \"GPU\"\n",
      "memory_limit: 2224278732\n",
      "locality {\n",
      "  bus_id: 1\n",
      "  links {\n",
      "  }\n",
      "}\n",
      "incarnation: 14995601001793356819\n",
      "physical_device_desc: \"device: 0, name: GeForce GTX 1060 3GB, pci bus id: 0000:01:00.0, compute capability: 6.1\"\n",
      "]\n"
     ]
    }
   ],
   "source": [
    "from tensorflow.python.client import device_lib\n",
    "print(device_lib.list_local_devices())"
   ]
  },
  {
   "cell_type": "code",
   "execution_count": 20,
   "metadata": {
    "ExecuteTime": {
     "end_time": "2018-11-15T05:41:17.731296Z",
     "start_time": "2018-11-15T05:41:17.728294Z"
    },
    "collapsed": true
   },
   "outputs": [],
   "source": [
    "np.random.seed(1234)"
   ]
  },
  {
   "cell_type": "code",
   "execution_count": 21,
   "metadata": {
    "ExecuteTime": {
     "end_time": "2018-11-15T05:41:18.254295Z",
     "start_time": "2018-11-15T05:41:18.190294Z"
    },
    "collapsed": true
   },
   "outputs": [],
   "source": [
    "gpu_options = tf.GPUOptions(per_process_gpu_memory_fraction=0.90)\n",
    "sess = tf.Session(config=tf.ConfigProto(\n",
    "  allow_soft_placement=True, log_device_placement=True))"
   ]
  },
  {
   "cell_type": "code",
   "execution_count": 22,
   "metadata": {
    "ExecuteTime": {
     "end_time": "2018-11-15T05:41:18.659296Z",
     "start_time": "2018-11-15T05:41:18.655309Z"
    }
   },
   "outputs": [
    {
     "data": {
      "text/plain": [
       "[_DeviceAttributes(/job:localhost/replica:0/task:0/device:CPU:0, CPU, 268435456, 17665963509196738293),\n",
       " _DeviceAttributes(/job:localhost/replica:0/task:0/device:GPU:0, GPU, 2224278732, 17084571581949035780)]"
      ]
     },
     "execution_count": 22,
     "metadata": {},
     "output_type": "execute_result"
    }
   ],
   "source": [
    "sess.list_devices()"
   ]
  },
  {
   "cell_type": "code",
   "execution_count": 24,
   "metadata": {
    "ExecuteTime": {
     "end_time": "2018-11-15T05:41:28.969303Z",
     "start_time": "2018-11-15T05:41:28.966296Z"
    },
    "collapsed": true
   },
   "outputs": [],
   "source": [
    "from keras.optimizers import Adam"
   ]
  },
  {
   "cell_type": "markdown",
   "metadata": {},
   "source": [
    "# Modeling"
   ]
  },
  {
   "cell_type": "code",
   "execution_count": 2,
   "metadata": {
    "ExecuteTime": {
     "end_time": "2018-11-15T06:10:56.697486Z",
     "start_time": "2018-11-15T06:10:56.688503Z"
    },
    "scrolled": true
   },
   "outputs": [
    {
     "ename": "NameError",
     "evalue": "name 'Sequential' is not defined",
     "output_type": "error",
     "traceback": [
      "\u001b[1;31m---------------------------------------------------------------------------\u001b[0m",
      "\u001b[1;31mNameError\u001b[0m                                 Traceback (most recent call last)",
      "\u001b[1;32m<ipython-input-2-a554495e67e5>\u001b[0m in \u001b[0;36m<module>\u001b[1;34m()\u001b[0m\n\u001b[0;32m      1\u001b[0m \u001b[1;31m# Base Model after 500 epochs\u001b[0m\u001b[1;33m\u001b[0m\u001b[1;33m\u001b[0m\u001b[0m\n\u001b[1;32m----> 2\u001b[1;33m \u001b[0mmodel\u001b[0m \u001b[1;33m=\u001b[0m \u001b[0mSequential\u001b[0m\u001b[1;33m(\u001b[0m\u001b[1;33m)\u001b[0m\u001b[1;33m\u001b[0m\u001b[0m\n\u001b[0m\u001b[0;32m      3\u001b[0m \u001b[0mmodel\u001b[0m\u001b[1;33m.\u001b[0m\u001b[0madd\u001b[0m\u001b[1;33m(\u001b[0m\u001b[0mLSTM\u001b[0m\u001b[1;33m(\u001b[0m\u001b[1;36m240\u001b[0m\u001b[1;33m,\u001b[0m \u001b[0minput_shape\u001b[0m\u001b[1;33m=\u001b[0m\u001b[0mdf_dev_x\u001b[0m\u001b[1;33m[\u001b[0m\u001b[1;36m0\u001b[0m\u001b[1;33m]\u001b[0m\u001b[1;33m.\u001b[0m\u001b[0mshape\u001b[0m\u001b[1;33m)\u001b[0m\u001b[1;33m)\u001b[0m\u001b[1;33m\u001b[0m\u001b[0m\n\u001b[0;32m      4\u001b[0m \u001b[0mmodel\u001b[0m\u001b[1;33m.\u001b[0m\u001b[0madd\u001b[0m\u001b[1;33m(\u001b[0m\u001b[0mDense\u001b[0m\u001b[1;33m(\u001b[0m\u001b[1;36m1\u001b[0m\u001b[1;33m,\u001b[0m \u001b[0mactivation\u001b[0m\u001b[1;33m=\u001b[0m\u001b[1;34m'linear'\u001b[0m\u001b[1;33m)\u001b[0m\u001b[1;33m)\u001b[0m\u001b[1;33m\u001b[0m\u001b[0m\n\u001b[0;32m      5\u001b[0m \u001b[0mmodel\u001b[0m\u001b[1;33m.\u001b[0m\u001b[0mcompile\u001b[0m\u001b[1;33m(\u001b[0m\u001b[0mloss\u001b[0m\u001b[1;33m=\u001b[0m\u001b[1;34m'mae'\u001b[0m\u001b[1;33m,\u001b[0m \u001b[0moptimizer\u001b[0m\u001b[1;33m=\u001b[0m\u001b[0mAdam\u001b[0m\u001b[1;33m(\u001b[0m\u001b[0mlr\u001b[0m\u001b[1;33m=\u001b[0m\u001b[1;36m0.001\u001b[0m\u001b[1;33m)\u001b[0m\u001b[1;33m)\u001b[0m\u001b[1;33m\u001b[0m\u001b[0m\n",
      "\u001b[1;31mNameError\u001b[0m: name 'Sequential' is not defined"
     ]
    }
   ],
   "source": [
    "# Base Model after 500 epochs\n",
    "model = Sequential()\n",
    "model.add(LSTM(240, input_shape=df_dev_x[0].shape))\n",
    "model.add(Dense(1, activation='linear'))\n",
    "model.compile(loss='mae', optimizer=Adam(lr=0.001))\n",
    "print(model.summary())\n",
    "model.fit(df_dev_x, df_dev_y, validation_data=(df_test_x, df_test_y), epochs=100, batch_size=5000)"
   ]
  },
  {
   "cell_type": "code",
   "execution_count": null,
   "metadata": {
    "ExecuteTime": {
     "start_time": "2018-11-15T06:01:33.268Z"
    },
    "collapsed": true
   },
   "outputs": [],
   "source": [
    "pd.DataFrame(model.history.history).plot()\n",
    "\n",
    "y_true = scaler_y.inverse_transform(df_test_y)\n",
    "y_pred = scaler_y.inverse_transform(model.predict(df_test_x))\n",
    "mean_absolute_error(y_true, y_pred)"
   ]
  },
  {
   "cell_type": "code",
   "execution_count": 33,
   "metadata": {
    "ExecuteTime": {
     "end_time": "2018-11-15T05:52:11.013799Z",
     "start_time": "2018-11-15T05:52:03.528798Z"
    },
    "scrolled": true
   },
   "outputs": [
    {
     "name": "stdout",
     "output_type": "stream",
     "text": [
      "_________________________________________________________________\n",
      "Layer (type)                 Output Shape              Param #   \n",
      "=================================================================\n",
      "lstm_9 (LSTM)                (None, 24)                3744      \n",
      "_________________________________________________________________\n",
      "dense_5 (Dense)              (None, 1)                 25        \n",
      "=================================================================\n",
      "Total params: 3,769\n",
      "Trainable params: 3,769\n",
      "Non-trainable params: 0\n",
      "_________________________________________________________________\n",
      "None\n",
      "Train on 52542 samples, validate on 17470 samples\n",
      "Epoch 1/5\n",
      "52542/52542 [==============================] - 3s 52us/step - loss: 0.3792 - val_loss: 0.1483\n",
      "Epoch 2/5\n",
      "52542/52542 [==============================] - 1s 19us/step - loss: 0.1305 - val_loss: 0.1176\n",
      "Epoch 3/5\n",
      "52542/52542 [==============================] - 1s 20us/step - loss: 0.0969 - val_loss: 0.0866\n",
      "Epoch 4/5\n",
      "52542/52542 [==============================] - 1s 17us/step - loss: 0.0733 - val_loss: 0.0579\n",
      "Epoch 5/5\n",
      "52542/52542 [==============================] - 1s 18us/step - loss: 0.0579 - val_loss: 0.0573\n"
     ]
    },
    {
     "data": {
      "text/plain": [
       "<keras.callbacks.History at 0x26361a8b668>"
      ]
     },
     "execution_count": 33,
     "metadata": {},
     "output_type": "execute_result"
    }
   ],
   "source": [
    "# Adding More unites to LSTM\n",
    "model2 = Sequential()\n",
    "model2.add(LSTM(24, input_shape=df_dev_x[0].shape))\n",
    "model2.add(Dense(1, activation='linear'))\n",
    "model2.compile(loss='mae', optimizer=Adam(lr=0.001))\n",
    "print(model2.summary())\n",
    "model2.fit(df_dev_x, df_dev_y, validation_data=(df_test_x, df_test_y), epochs=5, batch_size=5000)"
   ]
  },
  {
   "cell_type": "code",
   "execution_count": 28,
   "metadata": {
    "ExecuteTime": {
     "end_time": "2018-11-15T05:43:31.845992Z",
     "start_time": "2018-11-15T05:43:21.813994Z"
    },
    "scrolled": true
   },
   "outputs": [
    {
     "data": {
      "text/plain": [
       "2.3725782423107487"
      ]
     },
     "execution_count": 28,
     "metadata": {},
     "output_type": "execute_result"
    },
    {
     "data": {
      "image/png": "[encoded data removed]",
      "text/plain": [
       "<Figure size 432x288 with 1 Axes>"
      ]
     },
     "metadata": {},
     "output_type": "display_data"
    }
   ],
   "source": [
    "pd.DataFrame(model2.history.history).plot()\n",
    "\n",
    "y_true = scaler_y.inverse_transform(df_test_y)\n",
    "y_pred = scaler_y.inverse_transform(model2.predict(df_test_x))\n",
    "mean_absolute_error(y_true, y_pred)"
   ]
  },
  {
   "cell_type": "code",
   "execution_count": null,
   "metadata": {
    "ExecuteTime": {
     "end_time": "2018-11-15T03:05:53.860022Z",
     "start_time": "2018-11-15T03:05:53.737022Z"
    },
    "collapsed": true,
    "scrolled": true
   },
   "outputs": [],
   "source": [
    "pd.DataFrame(model2.history.history).iloc[50:].plot()"
   ]
  },
  {
   "cell_type": "code",
   "execution_count": 29,
   "metadata": {
    "ExecuteTime": {
     "end_time": "2018-11-15T05:45:41.171066Z",
     "start_time": "2018-11-15T05:45:28.196553Z"
    },
    "scrolled": true
   },
   "outputs": [
    {
     "name": "stdout",
     "output_type": "stream",
     "text": [
      "_________________________________________________________________\n",
      "Layer (type)                 Output Shape              Param #   \n",
      "=================================================================\n",
      "lstm_3 (LSTM)                (None, 24, 24)            3744      \n",
      "_________________________________________________________________\n",
      "lstm_4 (LSTM)                (None, 24)                4704      \n",
      "_________________________________________________________________\n",
      "dense_3 (Dense)              (None, 1)                 25        \n",
      "=================================================================\n",
      "Total params: 8,473\n",
      "Trainable params: 8,473\n",
      "Non-trainable params: 0\n",
      "_________________________________________________________________\n",
      "None\n",
      "Train on 52542 samples, validate on 17470 samples\n",
      "Epoch 1/5\n",
      "52542/52542 [==============================] - 3s 61us/step - loss: 0.1176 - val_loss: 0.0522\n",
      "Epoch 2/5\n",
      "52542/52542 [==============================] - 2s 32us/step - loss: 0.0536 - val_loss: 0.0479\n",
      "Epoch 3/5\n",
      "52542/52542 [==============================] - 2s 40us/step - loss: 0.0439 - val_loss: 0.0410\n",
      "Epoch 4/5\n",
      "52542/52542 [==============================] - 2s 37us/step - loss: 0.0380 - val_loss: 0.0357\n",
      "Epoch 5/5\n",
      "52542/52542 [==============================] - 2s 38us/step - loss: 0.0316 - val_loss: 0.0282\n"
     ]
    },
    {
     "data": {
      "text/plain": [
       "<keras.callbacks.History at 0x2634c69b780>"
      ]
     },
     "execution_count": 29,
     "metadata": {},
     "output_type": "execute_result"
    }
   ],
   "source": [
    "# Adding more LSTM layers\n",
    "model3 = Sequential()\n",
    "model3.add(LSTM(24, input_shape=df_dev_x[0].shape, return_sequences=True))\n",
    "model.add(Dropout(.2))\n",
    "model3.add(LSTM(24))\n",
    "model.add(Dropout(.2))\n",
    "model3.add(Dense(1, activation='linear'))\n",
    "model3.compile(loss='mae', optimizer=Adam(lr=0.01, decay=0.0001))\n",
    "print(model3.summary())\n",
    "model3.fit(df_dev_x, df_dev_y, validation_data=(df_test_x, df_test_y), epochs=5, batch_size=5000)"
   ]
  },
  {
   "cell_type": "code",
   "execution_count": 30,
   "metadata": {
    "ExecuteTime": {
     "end_time": "2018-11-15T05:46:08.540069Z",
     "start_time": "2018-11-15T05:45:47.862066Z"
    },
    "scrolled": true
   },
   "outputs": [
    {
     "data": {
      "text/plain": [
       "1.6429555830992482"
      ]
     },
     "execution_count": 30,
     "metadata": {},
     "output_type": "execute_result"
    },
    {
     "data": {
      "image/png": "[encoded data removed]",
      "text/plain": [
       "<Figure size 432x288 with 1 Axes>"
      ]
     },
     "metadata": {},
     "output_type": "display_data"
    }
   ],
   "source": [
    "pd.DataFrame(model3.history.history).plot()\n",
    "\n",
    "y_true = scaler_y.inverse_transform(df_test_y)\n",
    "y_pred = scaler_y.inverse_transform(model3.predict(df_test_x))\n",
    "mean_absolute_error(y_true, y_pred)"
   ]
  },
  {
   "cell_type": "markdown",
   "metadata": {},
   "source": [
    "0.79 MAE but big variance variance between epochs."
   ]
  },
  {
   "cell_type": "code",
   "execution_count": null,
   "metadata": {
    "ExecuteTime": {
     "end_time": "2018-11-15T04:31:42.908055Z",
     "start_time": "2018-11-15T04:24:49.264371Z"
    },
    "collapsed": true
   },
   "outputs": [],
   "source": [
    "# Adding Statefulness to the model\n",
    "model4 = Sequential()\n",
    "model4.add(LSTM(24, batch_input_shape=(1, df_dev_x.shape[1], df_dev_x.shape[2]), stateful=True))\n",
    "model4.add(Dense(1, activation='linear'))\n",
    "model4.compile(loss='mae', optimizer=Adam(lr=0.001))\n",
    "print(model4.summary())\n",
    "model4.fit(df_dev_x, df_dev_y, validation_data=(df_test_x, df_test_y), epochs=5, batch_size=1)"
   ]
  },
  {
   "cell_type": "code",
   "execution_count": null,
   "metadata": {
    "ExecuteTime": {
     "end_time": "2018-11-15T04:31:42.912054Z",
     "start_time": "2018-11-15T04:24:51.251Z"
    },
    "collapsed": true,
    "scrolled": true
   },
   "outputs": [],
   "source": [
    "pd.DataFrame(model4.history.history).iloc[5:].plot()\n",
    "\n",
    "y_true = scaler_y.inverse_transform(df_test_y)\n",
    "y_pred = scaler_y.inverse_transform(model4.predict(df_test_x))\n",
    "mean_absolute_error(y_true, y_pred)"
   ]
  },
  {
   "cell_type": "code",
   "execution_count": 31,
   "metadata": {
    "ExecuteTime": {
     "end_time": "2018-11-15T05:47:27.005102Z",
     "start_time": "2018-11-15T05:47:01.662068Z"
    },
    "scrolled": true
   },
   "outputs": [
    {
     "name": "stdout",
     "output_type": "stream",
     "text": [
      "_________________________________________________________________\n",
      "Layer (type)                 Output Shape              Param #   \n",
      "=================================================================\n",
      "lstm_5 (LSTM)                (None, 24, 24)            3744      \n",
      "_________________________________________________________________\n",
      "dropout_3 (Dropout)          (None, 24, 24)            0         \n",
      "_________________________________________________________________\n",
      "lstm_6 (LSTM)                (None, 24, 24)            4704      \n",
      "_________________________________________________________________\n",
      "dropout_4 (Dropout)          (None, 24, 24)            0         \n",
      "_________________________________________________________________\n",
      "lstm_7 (LSTM)                (None, 24, 24)            4704      \n",
      "_________________________________________________________________\n",
      "dropout_5 (Dropout)          (None, 24, 24)            0         \n",
      "_________________________________________________________________\n",
      "lstm_8 (LSTM)                (None, 24)                4704      \n",
      "_________________________________________________________________\n",
      "dropout_6 (Dropout)          (None, 24)                0         \n",
      "_________________________________________________________________\n",
      "dense_4 (Dense)              (None, 1)                 25        \n",
      "=================================================================\n",
      "Total params: 17,881\n",
      "Trainable params: 17,881\n",
      "Non-trainable params: 0\n",
      "_________________________________________________________________\n",
      "None\n",
      "Train on 52542 samples, validate on 17470 samples\n",
      "Epoch 1/5\n",
      "52542/52542 [==============================] - 8s 146us/step - loss: 0.2506 - val_loss: 0.0944\n",
      "Epoch 2/5\n",
      "52542/52542 [==============================] - 4s 73us/step - loss: 0.1095 - val_loss: 0.0674\n",
      "Epoch 3/5\n",
      "52542/52542 [==============================] - 4s 72us/step - loss: 0.0814 - val_loss: 0.0549\n",
      "Epoch 4/5\n",
      "52542/52542 [==============================] - 3s 57us/step - loss: 0.0732 - val_loss: 0.0544\n",
      "Epoch 5/5\n",
      "52542/52542 [==============================] - 3s 56us/step - loss: 0.0697 - val_loss: 0.0552\n"
     ]
    },
    {
     "data": {
      "text/plain": [
       "<keras.callbacks.History at 0x2635c680710>"
      ]
     },
     "execution_count": 31,
     "metadata": {},
     "output_type": "execute_result"
    }
   ],
   "source": [
    "# Deeper layer with 4 LSTM layers\n",
    "model5 = Sequential()\n",
    "model5.add(LSTM(24, input_shape=df_dev_x[0].shape, return_sequences=True))\n",
    "model5.add(Dropout(.2))\n",
    "model5.add(LSTM(24, input_shape=df_dev_x[0].shape, return_sequences=True))\n",
    "model5.add(Dropout(.2))\n",
    "model5.add(LSTM(24, input_shape=df_dev_x[0].shape, return_sequences=True))\n",
    "model5.add(Dropout(.2))\n",
    "model5.add(LSTM(24, input_shape=df_dev_x[0].shape))\n",
    "model5.add(Dropout(.2))\n",
    "model5.add(Dense(1, activation='linear'))\n",
    "model5.compile(loss='mae', optimizer=Adam(lr=0.01))\n",
    "print(model5.summary())\n",
    "model5.fit(df_dev_x, df_dev_y, validation_data=(df_test_x, df_test_y), epochs=5, batch_size=5000)"
   ]
  },
  {
   "cell_type": "code",
   "execution_count": 32,
   "metadata": {
    "ExecuteTime": {
     "end_time": "2018-11-15T05:48:12.412146Z",
     "start_time": "2018-11-15T05:47:33.095104Z"
    }
   },
   "outputs": [
    {
     "data": {
      "text/plain": [
       "3.2143136442918245"
      ]
     },
     "execution_count": 32,
     "metadata": {},
     "output_type": "execute_result"
    },
    {
     "data": {
      "image/png": "[encoded data removed]",
      "text/plain": [
       "<Figure size 432x288 with 1 Axes>"
      ]
     },
     "metadata": {},
     "output_type": "display_data"
    }
   ],
   "source": [
    "pd.DataFrame(model5.history.history).plot()\n",
    "\n",
    "y_true = scaler_y.inverse_transform(df_test_y)\n",
    "y_pred = scaler_y.inverse_transform(model5.predict(df_test_x))\n",
    "mean_absolute_error(y_true, y_pred)"
   ]
  },
  {
   "cell_type": "markdown",
   "metadata": {},
   "source": [
    "# Write to file"
   ]
  },
  {
   "cell_type": "code",
   "execution_count": null,
   "metadata": {
    "ExecuteTime": {
     "end_time": "2018-11-13T03:23:18.817559Z",
     "start_time": "2018-11-13T03:23:18.808545Z"
    },
    "collapsed": true,
    "scrolled": true
   },
   "outputs": [],
   "source": [
    "idx = climate_hour.loc[climate_hour['Date Time'] >= '2015-01-01'].index\n",
    "labels = climate_hour_index[idx].reset_index(drop=True)"
   ]
  },
  {
   "cell_type": "code",
   "execution_count": null,
   "metadata": {
    "ExecuteTime": {
     "end_time": "2018-11-13T03:23:19.253065Z",
     "start_time": "2018-11-13T03:23:19.248048Z"
    },
    "collapsed": true
   },
   "outputs": [],
   "source": [
    "labels.head()"
   ]
  },
  {
   "cell_type": "code",
   "execution_count": null,
   "metadata": {
    "ExecuteTime": {
     "end_time": "2018-11-13T03:23:19.637256Z",
     "start_time": "2018-11-13T03:23:19.631257Z"
    },
    "collapsed": true
   },
   "outputs": [],
   "source": [
    "predictions = pd.DataFrame(y_pred)\n",
    "predictions.columns = ['temperature']\n",
    "\n",
    "predictions['date_time'] = labels"
   ]
  },
  {
   "cell_type": "code",
   "execution_count": null,
   "metadata": {
    "ExecuteTime": {
     "end_time": "2018-11-13T03:23:23.103258Z",
     "start_time": "2018-11-13T03:23:23.055222Z"
    },
    "collapsed": true
   },
   "outputs": [],
   "source": [
    "predictions.to_csv('predictions2.csv', index=False)"
   ]
  },
  {
   "cell_type": "code",
   "execution_count": null,
   "metadata": {
    "ExecuteTime": {
     "end_time": "2018-11-11T23:03:18.194533Z",
     "start_time": "2018-11-11T23:03:18.104560Z"
    },
    "collapsed": true
   },
   "outputs": [],
   "source": [
    "plt.plot(y_true[:250])\n",
    "plt.plot(y_pred[:250])\n",
    "plt.show()"
   ]
  },
  {
   "cell_type": "code",
   "execution_count": null,
   "metadata": {
    "collapsed": true
   },
   "outputs": [],
   "source": []
  }
 ],
 "metadata": {
  "kernelspec": {
   "display_name": "Python 3",
   "language": "python",
   "name": "python3"
  },
  "language_info": {
   "codemirror_mode": {
    "name": "ipython",
    "version": 3
   },
   "file_extension": ".py",
   "mimetype": "text/x-python",
   "name": "python",
   "nbconvert_exporter": "python",
   "pygments_lexer": "ipython3",
   "version": "3.6.6"
  },
  "toc": {
   "colors": {
    "hover_highlight": "#DAA520",
    "navigate_num": "#000000",
    "navigate_text": "#333333",
    "running_highlight": "#FF0000",
    "selected_highlight": "#FFD700",
    "sidebar_border": "#EEEEEE",
    "wrapper_background": "#FFFFFF"
   },
   "moveMenuLeft": true,
   "nav_menu": {
    "height": "84px",
    "width": "252px"
   },
   "navigate_menu": true,
   "number_sections": true,
   "sideBar": true,
   "threshold": 4,
   "toc_cell": false,
   "toc_section_display": "block",
   "toc_window_display": false,
   "widenNotebook": false
  }
 },
 "nbformat": 4,
 "nbformat_minor": 2
}
