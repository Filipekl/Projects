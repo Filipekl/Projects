{
 "cells": [
  {
   "cell_type": "code",
   "execution_count": 1,
   "metadata": {
    "ExecuteTime": {
     "end_time": "2017-03-17T19:11:41.681107",
     "start_time": "2017-03-17T19:11:40.948849"
    },
    "collapsed": false
   },
   "outputs": [],
   "source": [
    "import os, sys\n",
    "import pandas as pd\n",
    "import numpy as np\n",
    "import pickle\n",
    "\n",
    "from scipy.stats import ttest_ind\n",
    "import numpy as np\n",
    "import seaborn as sns\n",
    "\n",
    "from sklearn.preprocessing import Normalizer\n",
    "from sklearn.neural_network import BernoulliRBM\n",
    "from sklearn.svm import SVC\n",
    "from sklearn.linear_model import LogisticRegression\n",
    "from sklearn.pipeline import Pipeline\n",
    "\n",
    "from sklearn.model_selection import train_test_split, GridSearchCV, KFold\n",
    "from sklearn.metrics import confusion_matrix, classification_report, accuracy_score, precision_score, recall_score\n",
    "\n",
    "import matplotlib.image as mpimg\n",
    "import matplotlib.pyplot as plt\n",
    "%matplotlib inline"
   ]
  },
  {
   "cell_type": "code",
   "execution_count": 2,
   "metadata": {
    "ExecuteTime": {
     "end_time": "2017-03-17T19:11:41.687105",
     "start_time": "2017-03-17T19:11:41.682090"
    },
    "collapsed": false
   },
   "outputs": [
    {
     "data": {
      "text/html": [
       "<style>.container { width:90% !important; }</style>"
      ],
      "text/plain": [
       "<IPython.core.display.HTML object>"
      ]
     },
     "metadata": {},
     "output_type": "display_data"
    }
   ],
   "source": [
    "from IPython.core.display import display, HTML\n",
    "display(HTML(\"<style>.container { width:90% !important; }</style>\"))\n",
    "\n",
    "pd.set_option(\"display.max_rows\",999)\n",
    "pd.set_option('display.max_columns',999)"
   ]
  },
  {
   "cell_type": "code",
   "execution_count": 3,
   "metadata": {
    "ExecuteTime": {
     "end_time": "2017-03-17T19:11:41.705137",
     "start_time": "2017-03-17T19:11:41.688096"
    },
    "collapsed": true
   },
   "outputs": [],
   "source": [
    "def kfoldFunction(variables, yVars, mClassifier, cv = 5, verbose = False, plot = False):\n",
    "    accuracy = []\n",
    "    precision = []\n",
    "    recall = []\n",
    "    kf = KFold(n_splits = cv)\n",
    "\n",
    "    for train_index, test_index in kf.split(variables):\n",
    "        xTrain, xTest = variables.iloc[train_index], variables.iloc[test_index]\n",
    "        yTrain, yTest = yVars.iloc[train_index], yVars.iloc[test_index]\n",
    "\n",
    "        mClassifier = mClassifier.fit(xTrain, yTrain)\n",
    "        mPredict = mClassifier.predict(xTest)\n",
    "\n",
    "        if verbose == True:\n",
    "            print('Accuracy:', accuracy_score(yTest, mPredict), '\\n')\n",
    "            print(classification_report(yTest, mPredict))\n",
    "            print(pd.DataFrame(confusion_matrix(yTest, mPredict)), '\\n\\n\\n')\n",
    "        accuracy.append(accuracy_score(yTest, mPredict))\n",
    "        precision.append(precision_score(yTest, mPredict, average='weighted'))\n",
    "        recall.append(recall_score(yTest, mPredict, average='weighted'))\n",
    "    \n",
    "    metrics = pd.DataFrame([accuracy,precision,recall]).T\n",
    "    metrics.columns = ['accuracy','precision','recall']\n",
    "    if plot == True:\n",
    "        plt.figure()\n",
    "        plt.title('Accuracy: Mean {} | SD {}'.format(round(np.average(accuracy),4), round(np.std(accuracy),4)))\n",
    "\n",
    "        sns.boxplot(metrics)\n",
    "    return(metrics)"
   ]
  },
  {
   "cell_type": "markdown",
   "metadata": {},
   "source": [
    "# Load Data"
   ]
  },
  {
   "cell_type": "code",
   "execution_count": 4,
   "metadata": {
    "ExecuteTime": {
     "end_time": "2017-03-17T19:11:45.224408",
     "start_time": "2017-03-17T19:11:42.469158"
    },
    "collapsed": true
   },
   "outputs": [],
   "source": [
    "mnistImages = pd.read_csv('train.csv')"
   ]
  },
  {
   "cell_type": "code",
   "execution_count": 5,
   "metadata": {
    "ExecuteTime": {
     "end_time": "2017-03-17T19:11:45.229401",
     "start_time": "2017-03-17T19:11:45.225398"
    },
    "collapsed": false
   },
   "outputs": [],
   "source": [
    "images = mnistImages.ix[:,1:]\n",
    "labels = mnistImages.ix[:,0]"
   ]
  },
  {
   "cell_type": "code",
   "execution_count": 6,
   "metadata": {
    "ExecuteTime": {
     "end_time": "2017-03-17T19:11:45.238410",
     "start_time": "2017-03-17T19:11:45.230403"
    },
    "collapsed": false
   },
   "outputs": [
    {
     "data": {
      "text/plain": [
       "(42000, 784)"
      ]
     },
     "execution_count": 6,
     "metadata": {},
     "output_type": "execute_result"
    }
   ],
   "source": [
    "images.shape"
   ]
  },
  {
   "cell_type": "code",
   "execution_count": 7,
   "metadata": {
    "ExecuteTime": {
     "end_time": "2017-03-17T19:11:45.250423",
     "start_time": "2017-03-17T19:11:45.239412"
    },
    "collapsed": false
   },
   "outputs": [
    {
     "data": {
      "text/plain": [
       "0    4132\n",
       "1    4684\n",
       "2    4177\n",
       "3    4351\n",
       "4    4072\n",
       "5    3795\n",
       "6    4137\n",
       "7    4401\n",
       "8    4063\n",
       "9    4188\n",
       "Name: label, dtype: int64"
      ]
     },
     "execution_count": 7,
     "metadata": {},
     "output_type": "execute_result"
    }
   ],
   "source": [
    "labels.value_counts().sort_index()"
   ]
  },
  {
   "cell_type": "code",
   "execution_count": 8,
   "metadata": {
    "ExecuteTime": {
     "end_time": "2017-03-17T19:11:45.876194",
     "start_time": "2017-03-17T19:11:45.251424"
    },
    "collapsed": false,
    "scrolled": true
   },
   "outputs": [
    {
     "name": "stderr",
     "output_type": "stream",
     "text": [
      "C:\\Anaconda3\\lib\\site-packages\\ipykernel\\__main__.py:5: FutureWarning: reshape is deprecated and will raise in a subsequent release. Please use .values.reshape(...) instead\n"
     ]
    },
    {
     "data": {
      "image/png": "[encoded data removed]",
      "text/plain": [
       "<matplotlib.figure.Figure at 0x1c9b0f04320>"
      ]
     },
     "metadata": {},
     "output_type": "display_data"
    }
   ],
   "source": [
    "for i in range(16):\n",
    "    plt.subplot(4, 4, i + 1)\n",
    "    plt.xticks(())\n",
    "    plt.yticks(())\n",
    "    plt.imshow(images.iloc[i].reshape(28,28))"
   ]
  },
  {
   "cell_type": "markdown",
   "metadata": {},
   "source": [
    "# Prep Data"
   ]
  },
  {
   "cell_type": "code",
   "execution_count": 9,
   "metadata": {
    "ExecuteTime": {
     "end_time": "2017-03-17T19:11:46.113925",
     "start_time": "2017-03-17T19:11:45.877184"
    },
    "collapsed": false
   },
   "outputs": [],
   "source": [
    "iTrain, iTest, lTrain, lTest = train_test_split(images, labels, train_size = 0.5)"
   ]
  },
  {
   "cell_type": "code",
   "execution_count": 10,
   "metadata": {
    "ExecuteTime": {
     "end_time": "2017-03-17T19:11:49.033298",
     "start_time": "2017-03-17T19:11:48.685562"
    },
    "collapsed": false
   },
   "outputs": [
    {
     "name": "stderr",
     "output_type": "stream",
     "text": [
      "C:\\Anaconda3\\lib\\site-packages\\sklearn\\utils\\validation.py:429: DataConversionWarning: Data with input dtype int64 was converted to float64 by the normalize function.\n",
      "  warnings.warn(msg, _DataConversionWarning)\n"
     ]
    }
   ],
   "source": [
    "norm = Normalizer()\n",
    "norm.fit(iTrain)\n",
    "\n",
    "iTrain = norm.transform(iTrain)\n",
    "iTest = norm.transform(iTest)"
   ]
  },
  {
   "cell_type": "markdown",
   "metadata": {},
   "source": [
    "## RBM"
   ]
  },
  {
   "cell_type": "code",
   "execution_count": 11,
   "metadata": {
    "ExecuteTime": {
     "end_time": "2017-03-17T16:23:57.881706",
     "start_time": "2017-03-17T16:23:57.876201"
    },
    "collapsed": false
   },
   "outputs": [],
   "source": [
    "rbm1 = BernoulliRBM(n_components=784, batch_size=1000, n_iter=5, learning_rate=0.05, random_state=0, verbose=True)\n",
    "rbm2 = BernoulliRBM(n_components=392, batch_size=1000, n_iter=10, learning_rate=0.01, random_state=0, verbose=True)\n",
    "rbm3 = BernoulliRBM(n_components=157, batch_size=1000, n_iter=50, learning_rate=0.01, random_state=0, verbose=True)\n",
    "rbm4 = BernoulliRBM(n_components=79, batch_size=1000, n_iter=50, learning_rate=0.01, random_state=0, verbose=True)\n",
    "rbm5 = BernoulliRBM(n_components=16, batch_size=1000, n_iter=80, learning_rate=0.05, random_state=0, verbose=True)"
   ]
  },
  {
   "cell_type": "code",
   "execution_count": 16,
   "metadata": {
    "ExecuteTime": {
     "end_time": "2017-03-17T02:13:09.129444",
     "start_time": "2017-03-17T02:10:31.033278"
    },
    "collapsed": true
   },
   "outputs": [
    {
     "name": "stdout",
     "output_type": "stream",
     "text": [
      "[BernoulliRBM] Iteration 1, pseudo-likelihood = -281.29, time = 1.53s\n",
      "[BernoulliRBM] Iteration 2, pseudo-likelihood = -176.04, time = 1.98s\n",
      "[BernoulliRBM] Iteration 3, pseudo-likelihood = -108.31, time = 1.94s\n",
      "[BernoulliRBM] Iteration 4, pseudo-likelihood = -62.83, time = 1.95s\n",
      "[BernoulliRBM] Iteration 5, pseudo-likelihood = -39.25, time = 1.91s\n",
      "[BernoulliRBM] Iteration 6, pseudo-likelihood = -27.73, time = 1.91s\n",
      "[BernoulliRBM] Iteration 7, pseudo-likelihood = -22.28, time = 1.97s\n",
      "[BernoulliRBM] Iteration 8, pseudo-likelihood = -19.46, time = 1.96s\n",
      "[BernoulliRBM] Iteration 9, pseudo-likelihood = -17.99, time = 1.92s\n",
      "[BernoulliRBM] Iteration 10, pseudo-likelihood = -17.12, time = 2.15s\n",
      "[BernoulliRBM] Iteration 11, pseudo-likelihood = -16.52, time = 1.97s\n",
      "[BernoulliRBM] Iteration 12, pseudo-likelihood = -16.11, time = 1.94s\n",
      "[BernoulliRBM] Iteration 13, pseudo-likelihood = -15.78, time = 1.97s\n",
      "[BernoulliRBM] Iteration 14, pseudo-likelihood = -15.54, time = 1.92s\n",
      "[BernoulliRBM] Iteration 15, pseudo-likelihood = -15.39, time = 2.01s\n",
      "[BernoulliRBM] Iteration 16, pseudo-likelihood = -15.26, time = 2.04s\n",
      "[BernoulliRBM] Iteration 17, pseudo-likelihood = -15.13, time = 2.04s\n",
      "[BernoulliRBM] Iteration 18, pseudo-likelihood = -15.03, time = 1.99s\n",
      "[BernoulliRBM] Iteration 19, pseudo-likelihood = -14.93, time = 1.96s\n",
      "[BernoulliRBM] Iteration 20, pseudo-likelihood = -14.88, time = 1.94s\n",
      "[BernoulliRBM] Iteration 21, pseudo-likelihood = -14.84, time = 1.93s\n",
      "[BernoulliRBM] Iteration 22, pseudo-likelihood = -14.77, time = 1.94s\n",
      "[BernoulliRBM] Iteration 23, pseudo-likelihood = -14.73, time = 1.91s\n",
      "[BernoulliRBM] Iteration 24, pseudo-likelihood = -14.69, time = 1.94s\n",
      "[BernoulliRBM] Iteration 25, pseudo-likelihood = -14.64, time = 1.96s\n",
      "[BernoulliRBM] Iteration 26, pseudo-likelihood = -14.60, time = 2.01s\n",
      "[BernoulliRBM] Iteration 27, pseudo-likelihood = -14.57, time = 1.95s\n",
      "[BernoulliRBM] Iteration 28, pseudo-likelihood = -14.53, time = 1.94s\n",
      "[BernoulliRBM] Iteration 29, pseudo-likelihood = -14.51, time = 1.98s\n",
      "[BernoulliRBM] Iteration 30, pseudo-likelihood = -14.47, time = 1.94s\n",
      "[BernoulliRBM] Iteration 31, pseudo-likelihood = -14.47, time = 2.10s\n",
      "[BernoulliRBM] Iteration 32, pseudo-likelihood = -14.45, time = 2.20s\n",
      "[BernoulliRBM] Iteration 33, pseudo-likelihood = -14.45, time = 2.27s\n",
      "[BernoulliRBM] Iteration 34, pseudo-likelihood = -14.42, time = 1.95s\n",
      "[BernoulliRBM] Iteration 35, pseudo-likelihood = -14.39, time = 1.98s\n",
      "[BernoulliRBM] Iteration 36, pseudo-likelihood = -14.38, time = 1.94s\n",
      "[BernoulliRBM] Iteration 37, pseudo-likelihood = -14.39, time = 1.95s\n",
      "[BernoulliRBM] Iteration 38, pseudo-likelihood = -14.37, time = 1.93s\n",
      "[BernoulliRBM] Iteration 39, pseudo-likelihood = -14.35, time = 1.92s\n",
      "[BernoulliRBM] Iteration 40, pseudo-likelihood = -14.32, time = 1.95s\n",
      "[BernoulliRBM] Iteration 41, pseudo-likelihood = -14.36, time = 1.95s\n",
      "[BernoulliRBM] Iteration 42, pseudo-likelihood = -14.34, time = 1.99s\n",
      "[BernoulliRBM] Iteration 43, pseudo-likelihood = -14.31, time = 2.05s\n",
      "[BernoulliRBM] Iteration 44, pseudo-likelihood = -14.33, time = 2.01s\n",
      "[BernoulliRBM] Iteration 45, pseudo-likelihood = -14.30, time = 2.21s\n",
      "[BernoulliRBM] Iteration 46, pseudo-likelihood = -14.30, time = 1.95s\n",
      "[BernoulliRBM] Iteration 47, pseudo-likelihood = -14.28, time = 1.94s\n",
      "[BernoulliRBM] Iteration 48, pseudo-likelihood = -14.31, time = 1.95s\n",
      "[BernoulliRBM] Iteration 49, pseudo-likelihood = -14.28, time = 1.92s\n",
      "[BernoulliRBM] Iteration 50, pseudo-likelihood = -14.29, time = 1.94s\n",
      "[BernoulliRBM] Iteration 51, pseudo-likelihood = -14.27, time = 1.94s\n",
      "[BernoulliRBM] Iteration 52, pseudo-likelihood = -14.23, time = 1.94s\n",
      "[BernoulliRBM] Iteration 53, pseudo-likelihood = -14.23, time = 1.94s\n",
      "[BernoulliRBM] Iteration 54, pseudo-likelihood = -14.23, time = 1.94s\n",
      "[BernoulliRBM] Iteration 55, pseudo-likelihood = -14.23, time = 1.94s\n",
      "[BernoulliRBM] Iteration 56, pseudo-likelihood = -14.23, time = 1.95s\n",
      "[BernoulliRBM] Iteration 57, pseudo-likelihood = -14.24, time = 1.98s\n",
      "[BernoulliRBM] Iteration 58, pseudo-likelihood = -14.24, time = 2.11s\n",
      "[BernoulliRBM] Iteration 59, pseudo-likelihood = -14.24, time = 1.96s\n",
      "[BernoulliRBM] Iteration 60, pseudo-likelihood = -14.22, time = 1.93s\n",
      "[BernoulliRBM] Iteration 61, pseudo-likelihood = -14.23, time = 1.93s\n",
      "[BernoulliRBM] Iteration 62, pseudo-likelihood = -14.22, time = 1.94s\n",
      "[BernoulliRBM] Iteration 63, pseudo-likelihood = -14.23, time = 1.92s\n",
      "[BernoulliRBM] Iteration 64, pseudo-likelihood = -14.22, time = 1.93s\n",
      "[BernoulliRBM] Iteration 65, pseudo-likelihood = -14.18, time = 2.00s\n",
      "[BernoulliRBM] Iteration 66, pseudo-likelihood = -14.19, time = 2.00s\n",
      "[BernoulliRBM] Iteration 67, pseudo-likelihood = -14.18, time = 2.06s\n",
      "[BernoulliRBM] Iteration 68, pseudo-likelihood = -14.19, time = 1.97s\n",
      "[BernoulliRBM] Iteration 69, pseudo-likelihood = -14.20, time = 1.93s\n",
      "[BernoulliRBM] Iteration 70, pseudo-likelihood = -14.19, time = 1.94s\n",
      "[BernoulliRBM] Iteration 71, pseudo-likelihood = -14.19, time = 1.95s\n",
      "[BernoulliRBM] Iteration 72, pseudo-likelihood = -14.20, time = 1.93s\n",
      "[BernoulliRBM] Iteration 73, pseudo-likelihood = -14.20, time = 1.94s\n",
      "[BernoulliRBM] Iteration 74, pseudo-likelihood = -14.21, time = 1.94s\n",
      "[BernoulliRBM] Iteration 75, pseudo-likelihood = -14.21, time = 2.01s\n",
      "[BernoulliRBM] Iteration 76, pseudo-likelihood = -14.17, time = 2.01s\n",
      "[BernoulliRBM] Iteration 77, pseudo-likelihood = -14.18, time = 2.03s\n",
      "[BernoulliRBM] Iteration 78, pseudo-likelihood = -14.19, time = 1.98s\n",
      "[BernoulliRBM] Iteration 79, pseudo-likelihood = -14.16, time = 1.98s\n",
      "[BernoulliRBM] Iteration 80, pseudo-likelihood = -14.20, time = 1.97s\n"
     ]
    },
    {
     "data": {
      "text/plain": [
       "BernoulliRBM(batch_size=1000, learning_rate=0.05, n_components=16, n_iter=80,\n",
       "       random_state=0, verbose=True)"
      ]
     },
     "execution_count": 16,
     "metadata": {},
     "output_type": "execute_result"
    }
   ],
   "source": [
    "rbm5.fit(iTrain)"
   ]
  },
  {
   "cell_type": "code",
   "execution_count": 17,
   "metadata": {
    "ExecuteTime": {
     "end_time": "2017-03-17T02:19:20.750241",
     "start_time": "2017-03-17T02:16:14.355152"
    },
    "collapsed": true
   },
   "outputs": [
    {
     "name": "stdout",
     "output_type": "stream",
     "text": [
      "[BernoulliRBM] Iteration 1, pseudo-likelihood = -354.24, time = 2.68s\n",
      "[BernoulliRBM] Iteration 2, pseudo-likelihood = -292.17, time = 3.72s\n",
      "[BernoulliRBM] Iteration 3, pseudo-likelihood = -249.12, time = 3.81s\n",
      "[BernoulliRBM] Iteration 4, pseudo-likelihood = -221.63, time = 3.66s\n",
      "[BernoulliRBM] Iteration 5, pseudo-likelihood = -208.47, time = 3.77s\n",
      "[BernoulliRBM] Iteration 6, pseudo-likelihood = -201.25, time = 3.68s\n",
      "[BernoulliRBM] Iteration 7, pseudo-likelihood = -161.14, time = 3.80s\n",
      "[BernoulliRBM] Iteration 8, pseudo-likelihood = -131.66, time = 3.72s\n",
      "[BernoulliRBM] Iteration 9, pseudo-likelihood = -105.68, time = 3.74s\n",
      "[BernoulliRBM] Iteration 10, pseudo-likelihood = -77.09, time = 3.69s\n",
      "[BernoulliRBM] Iteration 11, pseudo-likelihood = -54.67, time = 3.72s\n",
      "[BernoulliRBM] Iteration 12, pseudo-likelihood = -40.39, time = 3.71s\n",
      "[BernoulliRBM] Iteration 13, pseudo-likelihood = -30.84, time = 3.69s\n",
      "[BernoulliRBM] Iteration 14, pseudo-likelihood = -24.72, time = 3.66s\n",
      "[BernoulliRBM] Iteration 15, pseudo-likelihood = -20.97, time = 3.75s\n",
      "[BernoulliRBM] Iteration 16, pseudo-likelihood = -18.80, time = 3.69s\n",
      "[BernoulliRBM] Iteration 17, pseudo-likelihood = -17.41, time = 3.70s\n",
      "[BernoulliRBM] Iteration 18, pseudo-likelihood = -16.62, time = 3.65s\n",
      "[BernoulliRBM] Iteration 19, pseudo-likelihood = -16.06, time = 3.90s\n",
      "[BernoulliRBM] Iteration 20, pseudo-likelihood = -15.69, time = 3.81s\n",
      "[BernoulliRBM] Iteration 21, pseudo-likelihood = -15.43, time = 3.73s\n",
      "[BernoulliRBM] Iteration 22, pseudo-likelihood = -15.25, time = 3.68s\n",
      "[BernoulliRBM] Iteration 23, pseudo-likelihood = -15.07, time = 3.76s\n",
      "[BernoulliRBM] Iteration 24, pseudo-likelihood = -14.96, time = 3.84s\n",
      "[BernoulliRBM] Iteration 25, pseudo-likelihood = -14.86, time = 3.71s\n",
      "[BernoulliRBM] Iteration 26, pseudo-likelihood = -14.79, time = 3.78s\n",
      "[BernoulliRBM] Iteration 27, pseudo-likelihood = -14.75, time = 3.68s\n",
      "[BernoulliRBM] Iteration 28, pseudo-likelihood = -14.73, time = 3.74s\n",
      "[BernoulliRBM] Iteration 29, pseudo-likelihood = -14.68, time = 3.72s\n",
      "[BernoulliRBM] Iteration 30, pseudo-likelihood = -14.64, time = 3.69s\n",
      "[BernoulliRBM] Iteration 31, pseudo-likelihood = -14.64, time = 3.68s\n",
      "[BernoulliRBM] Iteration 32, pseudo-likelihood = -14.63, time = 3.69s\n",
      "[BernoulliRBM] Iteration 33, pseudo-likelihood = -14.58, time = 3.68s\n",
      "[BernoulliRBM] Iteration 34, pseudo-likelihood = -14.56, time = 3.67s\n",
      "[BernoulliRBM] Iteration 35, pseudo-likelihood = -14.55, time = 3.70s\n",
      "[BernoulliRBM] Iteration 36, pseudo-likelihood = -14.53, time = 3.76s\n",
      "[BernoulliRBM] Iteration 37, pseudo-likelihood = -14.52, time = 3.70s\n",
      "[BernoulliRBM] Iteration 38, pseudo-likelihood = -14.53, time = 3.68s\n",
      "[BernoulliRBM] Iteration 39, pseudo-likelihood = -14.51, time = 3.75s\n",
      "[BernoulliRBM] Iteration 40, pseudo-likelihood = -14.49, time = 3.73s\n",
      "[BernoulliRBM] Iteration 41, pseudo-likelihood = -14.46, time = 3.69s\n",
      "[BernoulliRBM] Iteration 42, pseudo-likelihood = -14.46, time = 3.70s\n",
      "[BernoulliRBM] Iteration 43, pseudo-likelihood = -14.47, time = 3.68s\n",
      "[BernoulliRBM] Iteration 44, pseudo-likelihood = -14.46, time = 3.68s\n",
      "[BernoulliRBM] Iteration 45, pseudo-likelihood = -14.45, time = 3.72s\n",
      "[BernoulliRBM] Iteration 46, pseudo-likelihood = -14.42, time = 3.85s\n",
      "[BernoulliRBM] Iteration 47, pseudo-likelihood = -14.39, time = 3.75s\n",
      "[BernoulliRBM] Iteration 48, pseudo-likelihood = -14.40, time = 3.78s\n",
      "[BernoulliRBM] Iteration 49, pseudo-likelihood = -14.40, time = 3.79s\n",
      "[BernoulliRBM] Iteration 50, pseudo-likelihood = -14.40, time = 3.79s\n"
     ]
    },
    {
     "data": {
      "text/plain": [
       "BernoulliRBM(batch_size=1000, learning_rate=0.01, n_components=79, n_iter=50,\n",
       "       random_state=0, verbose=True)"
      ]
     },
     "execution_count": 17,
     "metadata": {},
     "output_type": "execute_result"
    }
   ],
   "source": [
    "rbm4.fit(iTrain)"
   ]
  },
  {
   "cell_type": "code",
   "execution_count": 18,
   "metadata": {
    "ExecuteTime": {
     "end_time": "2017-03-17T02:24:44.328794",
     "start_time": "2017-03-17T02:19:33.012480"
    },
    "collapsed": true
   },
   "outputs": [
    {
     "name": "stdout",
     "output_type": "stream",
     "text": [
      "[BernoulliRBM] Iteration 1, pseudo-likelihood = -256.42, time = 4.39s\n",
      "[BernoulliRBM] Iteration 2, pseudo-likelihood = -203.04, time = 6.18s\n",
      "[BernoulliRBM] Iteration 3, pseudo-likelihood = -182.81, time = 6.20s\n",
      "[BernoulliRBM] Iteration 4, pseudo-likelihood = -188.30, time = 6.23s\n",
      "[BernoulliRBM] Iteration 5, pseudo-likelihood = -168.39, time = 6.23s\n",
      "[BernoulliRBM] Iteration 6, pseudo-likelihood = -113.34, time = 6.15s\n",
      "[BernoulliRBM] Iteration 7, pseudo-likelihood = -86.12, time = 6.21s\n",
      "[BernoulliRBM] Iteration 8, pseudo-likelihood = -51.36, time = 6.18s\n",
      "[BernoulliRBM] Iteration 9, pseudo-likelihood = -33.13, time = 6.27s\n",
      "[BernoulliRBM] Iteration 10, pseudo-likelihood = -22.62, time = 6.32s\n",
      "[BernoulliRBM] Iteration 11, pseudo-likelihood = -18.14, time = 6.14s\n",
      "[BernoulliRBM] Iteration 12, pseudo-likelihood = -15.95, time = 6.54s\n",
      "[BernoulliRBM] Iteration 13, pseudo-likelihood = -15.01, time = 6.32s\n",
      "[BernoulliRBM] Iteration 14, pseudo-likelihood = -14.52, time = 6.16s\n",
      "[BernoulliRBM] Iteration 15, pseudo-likelihood = -14.37, time = 6.28s\n",
      "[BernoulliRBM] Iteration 16, pseudo-likelihood = -14.24, time = 6.22s\n",
      "[BernoulliRBM] Iteration 17, pseudo-likelihood = -14.18, time = 6.22s\n",
      "[BernoulliRBM] Iteration 18, pseudo-likelihood = -14.15, time = 6.22s\n",
      "[BernoulliRBM] Iteration 19, pseudo-likelihood = -14.15, time = 6.24s\n",
      "[BernoulliRBM] Iteration 20, pseudo-likelihood = -14.16, time = 6.28s\n",
      "[BernoulliRBM] Iteration 21, pseudo-likelihood = -14.14, time = 6.78s\n",
      "[BernoulliRBM] Iteration 22, pseudo-likelihood = -14.13, time = 6.20s\n",
      "[BernoulliRBM] Iteration 23, pseudo-likelihood = -14.15, time = 6.94s\n",
      "[BernoulliRBM] Iteration 24, pseudo-likelihood = -14.13, time = 6.28s\n",
      "[BernoulliRBM] Iteration 25, pseudo-likelihood = -14.12, time = 6.16s\n",
      "[BernoulliRBM] Iteration 26, pseudo-likelihood = -14.12, time = 6.70s\n",
      "[BernoulliRBM] Iteration 27, pseudo-likelihood = -14.13, time = 6.22s\n",
      "[BernoulliRBM] Iteration 28, pseudo-likelihood = -14.13, time = 6.23s\n",
      "[BernoulliRBM] Iteration 29, pseudo-likelihood = -14.14, time = 6.19s\n",
      "[BernoulliRBM] Iteration 30, pseudo-likelihood = -14.14, time = 6.25s\n",
      "[BernoulliRBM] Iteration 31, pseudo-likelihood = -14.14, time = 6.19s\n",
      "[BernoulliRBM] Iteration 32, pseudo-likelihood = -14.19, time = 6.15s\n",
      "[BernoulliRBM] Iteration 33, pseudo-likelihood = -14.17, time = 6.11s\n",
      "[BernoulliRBM] Iteration 34, pseudo-likelihood = -14.14, time = 6.14s\n",
      "[BernoulliRBM] Iteration 35, pseudo-likelihood = -14.13, time = 6.16s\n",
      "[BernoulliRBM] Iteration 36, pseudo-likelihood = -14.12, time = 6.13s\n",
      "[BernoulliRBM] Iteration 37, pseudo-likelihood = -14.11, time = 6.10s\n",
      "[BernoulliRBM] Iteration 38, pseudo-likelihood = -14.14, time = 6.13s\n",
      "[BernoulliRBM] Iteration 39, pseudo-likelihood = -14.15, time = 6.10s\n",
      "[BernoulliRBM] Iteration 40, pseudo-likelihood = -14.14, time = 6.13s\n",
      "[BernoulliRBM] Iteration 41, pseudo-likelihood = -14.12, time = 6.11s\n",
      "[BernoulliRBM] Iteration 42, pseudo-likelihood = -14.15, time = 6.11s\n",
      "[BernoulliRBM] Iteration 43, pseudo-likelihood = -14.13, time = 6.10s\n",
      "[BernoulliRBM] Iteration 44, pseudo-likelihood = -14.10, time = 6.10s\n",
      "[BernoulliRBM] Iteration 45, pseudo-likelihood = -14.10, time = 6.10s\n",
      "[BernoulliRBM] Iteration 46, pseudo-likelihood = -14.14, time = 6.12s\n",
      "[BernoulliRBM] Iteration 47, pseudo-likelihood = -14.12, time = 6.11s\n",
      "[BernoulliRBM] Iteration 48, pseudo-likelihood = -14.12, time = 6.18s\n",
      "[BernoulliRBM] Iteration 49, pseudo-likelihood = -14.12, time = 6.12s\n",
      "[BernoulliRBM] Iteration 50, pseudo-likelihood = -14.10, time = 6.16s\n"
     ]
    },
    {
     "data": {
      "text/plain": [
       "BernoulliRBM(batch_size=1000, learning_rate=0.01, n_components=157, n_iter=50,\n",
       "       random_state=0, verbose=True)"
      ]
     },
     "execution_count": 18,
     "metadata": {},
     "output_type": "execute_result"
    }
   ],
   "source": [
    "rbm3.fit(iTrain)"
   ]
  },
  {
   "cell_type": "code",
   "execution_count": 19,
   "metadata": {
    "ExecuteTime": {
     "end_time": "2017-03-17T02:27:07.990136",
     "start_time": "2017-03-17T02:25:00.240792"
    },
    "collapsed": false
   },
   "outputs": [
    {
     "name": "stdout",
     "output_type": "stream",
     "text": [
      "[BernoulliRBM] Iteration 1, pseudo-likelihood = -94.49, time = 8.76s\n",
      "[BernoulliRBM] Iteration 2, pseudo-likelihood = -91.78, time = 12.85s\n",
      "[BernoulliRBM] Iteration 3, pseudo-likelihood = -117.42, time = 12.90s\n",
      "[BernoulliRBM] Iteration 4, pseudo-likelihood = -52.09, time = 12.82s\n",
      "[BernoulliRBM] Iteration 5, pseudo-likelihood = -29.76, time = 12.70s\n",
      "[BernoulliRBM] Iteration 6, pseudo-likelihood = -17.74, time = 12.75s\n",
      "[BernoulliRBM] Iteration 7, pseudo-likelihood = -14.32, time = 12.75s\n",
      "[BernoulliRBM] Iteration 8, pseudo-likelihood = -13.39, time = 12.76s\n",
      "[BernoulliRBM] Iteration 9, pseudo-likelihood = -13.35, time = 12.72s\n",
      "[BernoulliRBM] Iteration 10, pseudo-likelihood = -13.45, time = 12.82s\n"
     ]
    },
    {
     "data": {
      "text/plain": [
       "BernoulliRBM(batch_size=1000, learning_rate=0.01, n_components=392, n_iter=10,\n",
       "       random_state=0, verbose=True)"
      ]
     },
     "execution_count": 19,
     "metadata": {},
     "output_type": "execute_result"
    }
   ],
   "source": [
    "rbm2.fit(iTrain)"
   ]
  },
  {
   "cell_type": "code",
   "execution_count": 11,
   "metadata": {
    "ExecuteTime": {
     "end_time": "2017-03-17T15:58:56.631965",
     "start_time": "2017-03-17T15:56:54.420262"
    },
    "collapsed": false
   },
   "outputs": [
    {
     "name": "stdout",
     "output_type": "stream",
     "text": [
      "[BernoulliRBM] Iteration 1, pseudo-likelihood = -13.07, time = 16.64s\n",
      "[BernoulliRBM] Iteration 2, pseudo-likelihood = -12.82, time = 23.79s\n",
      "[BernoulliRBM] Iteration 3, pseudo-likelihood = -12.62, time = 24.16s\n",
      "[BernoulliRBM] Iteration 4, pseudo-likelihood = -12.63, time = 25.19s\n",
      "[BernoulliRBM] Iteration 5, pseudo-likelihood = -12.55, time = 24.99s\n"
     ]
    },
    {
     "data": {
      "text/plain": [
       "BernoulliRBM(batch_size=1000, learning_rate=0.05, n_components=784, n_iter=5,\n",
       "       random_state=0, verbose=True)"
      ]
     },
     "execution_count": 11,
     "metadata": {},
     "output_type": "execute_result"
    }
   ],
   "source": [
    "rbm1.fit(iTrain)"
   ]
  },
  {
   "cell_type": "markdown",
   "metadata": {},
   "source": [
    "# Parameter Tuning"
   ]
  },
  {
   "cell_type": "code",
   "execution_count": 11,
   "metadata": {
    "ExecuteTime": {
     "end_time": "2017-03-17T19:13:07.388902",
     "start_time": "2017-03-17T19:11:51.869764"
    },
    "collapsed": false,
    "scrolled": true
   },
   "outputs": [
    {
     "name": "stdout",
     "output_type": "stream",
     "text": [
      "[BernoulliRBM] Iteration 1, pseudo-likelihood = -15.37, time = 10.18s\n",
      "[BernoulliRBM] Iteration 2, pseudo-likelihood = -15.02, time = 14.72s\n",
      "[BernoulliRBM] Iteration 3, pseudo-likelihood = -14.68, time = 14.73s\n",
      "[BernoulliRBM] Iteration 4, pseudo-likelihood = -14.74, time = 14.71s\n",
      "[BernoulliRBM] Iteration 5, pseudo-likelihood = -14.63, time = 14.70s\n"
     ]
    }
   ],
   "source": [
    "rbm = BernoulliRBM(n_components=784, batch_size=1000, n_iter=5, learning_rate=0.05, random_state=0, verbose=True)\n",
    "images = rbm.fit_transform(iTrain)"
   ]
  },
  {
   "cell_type": "code",
   "execution_count": 15,
   "metadata": {
    "ExecuteTime": {
     "end_time": "2017-03-17T19:32:08.431328",
     "start_time": "2017-03-17T19:16:58.292890"
    },
    "collapsed": false
   },
   "outputs": [
    {
     "name": "stdout",
     "output_type": "stream",
     "text": [
      "best score:  0.93280952381\n",
      "SVC(C=1000, cache_size=200, class_weight=None, coef0=0.0,\n",
      "  decision_function_shape=None, degree=3, gamma='auto', kernel='linear',\n",
      "  max_iter=-1, probability=False, random_state=None, shrinking=True,\n",
      "  tol=0.001, verbose=False)\n"
     ]
    }
   ],
   "source": [
    "# SVM\n",
    "param_grid = {\n",
    "    'C':[1,100,1000,6000]\n",
    "}\n",
    "\n",
    "classifier = SVC(kernel='linear')\n",
    "gs = GridSearchCV(classifier, param_grid, n_jobs=-1)\n",
    "gs = gs.fit(images, lTrain)\n",
    "print('best score: ', gs.best_score_)\n",
    "print(gs.best_estimator_)"
   ]
  },
  {
   "cell_type": "code",
   "execution_count": 14,
   "metadata": {
    "ExecuteTime": {
     "end_time": "2017-03-17T19:16:54.490416",
     "start_time": "2017-03-17T19:14:27.100936"
    },
    "collapsed": false
   },
   "outputs": [
    {
     "name": "stdout",
     "output_type": "stream",
     "text": [
      "best score:  0.909238095238\n",
      "LogisticRegression(C=6000, class_weight=None, dual=False, fit_intercept=True,\n",
      "          intercept_scaling=1, max_iter=100, multi_class='ovr', n_jobs=1,\n",
      "          penalty='l2', random_state=None, solver='liblinear', tol=0.0001,\n",
      "          verbose=0, warm_start=False)\n"
     ]
    }
   ],
   "source": [
    "# Logistic Regression\n",
    "param_grid = {\n",
    "    'C':[1,100,1000,6000]\n",
    "}\n",
    "\n",
    "classifier = LogisticRegression()\n",
    "gs2 = GridSearchCV(classifier, param_grid, n_jobs=-1)\n",
    "gs2 = gs2.fit(images, lTrain)\n",
    "print('best score: ', gs2.best_score_)\n",
    "print(gs2.best_estimator_)"
   ]
  },
  {
   "cell_type": "markdown",
   "metadata": {},
   "source": [
    "# Modeling"
   ]
  },
  {
   "cell_type": "code",
   "execution_count": 27,
   "metadata": {
    "ExecuteTime": {
     "end_time": "2017-03-17T19:49:31.190942",
     "start_time": "2017-03-17T19:47:39.883680"
    },
    "collapsed": true
   },
   "outputs": [
    {
     "name": "stderr",
     "output_type": "stream",
     "text": [
      "C:\\Anaconda3\\lib\\site-packages\\sklearn\\utils\\validation.py:526: DataConversionWarning: A column-vector y was passed when a 1d array was expected. Please change the shape of y to (n_samples, ), for example using ravel().\n",
      "  y = column_or_1d(y, warn=True)\n"
     ]
    },
    {
     "name": "stdout",
     "output_type": "stream",
     "text": [
      "Accuracy: 0.927 \n",
      "\n",
      "             precision    recall  f1-score   support\n",
      "\n",
      "          0       0.95      0.97      0.96       681\n",
      "          1       0.96      0.98      0.97       811\n",
      "          2       0.91      0.92      0.92       686\n",
      "          3       0.90      0.90      0.90       746\n",
      "          4       0.91      0.94      0.93       686\n",
      "          5       0.87      0.87      0.87       635\n",
      "          6       0.95      0.96      0.95       658\n",
      "          7       0.96      0.93      0.94       728\n",
      "          8       0.91      0.89      0.90       665\n",
      "          9       0.93      0.91      0.92       704\n",
      "\n",
      "avg / total       0.93      0.93      0.93      7000\n",
      "\n",
      "     0    1    2    3    4    5    6    7    8    9\n",
      "0  661    0    4    1    3    6    5    0    1    0\n",
      "1    1  792    4    1    1    3    0    2    6    1\n",
      "2    9    0  631    4    8    8   10    6    9    1\n",
      "3    3    5   14  669    1   28    3    5   14    4\n",
      "4    2    3    5    0  644    2    3    2    1   24\n",
      "5    5    6    8   32    4  552   11    1   14    2\n",
      "6    5    1    1    1    7   11  629    0    3    0\n",
      "7    2    5   14    2    8    2    0  676    2   17\n",
      "8    3    8    7   23    5   19    3    2  592    3\n",
      "9    2    4    3   10   25    2    0   10    5  643 \n",
      "\n",
      "\n",
      "\n",
      "Accuracy: 0.937285714286 \n",
      "\n",
      "             precision    recall  f1-score   support\n",
      "\n",
      "          0       0.96      0.99      0.97       676\n",
      "          1       0.97      0.98      0.97       777\n",
      "          2       0.91      0.93      0.92       690\n",
      "          3       0.91      0.93      0.92       749\n",
      "          4       0.91      0.96      0.93       719\n",
      "          5       0.93      0.89      0.91       642\n",
      "          6       0.96      0.96      0.96       717\n",
      "          7       0.96      0.92      0.94       694\n",
      "          8       0.94      0.91      0.93       650\n",
      "          9       0.93      0.90      0.91       686\n",
      "\n",
      "avg / total       0.94      0.94      0.94      7000\n",
      "\n",
      "     0    1    2    3    4    5    6    7    8    9\n",
      "0  668    0    1    3    0    2    1    0    1    0\n",
      "1    0  762    4    3    1    0    0    1    6    0\n",
      "2    0    2  640    6   15    1   10    5   10    1\n",
      "3    2    4   13  694    3   19    3    1    8    2\n",
      "4    3    1    6    0  689    1    0    5    0   14\n",
      "5   12    6    4   22    7  572    9    1    6    3\n",
      "6    9    0    8    0    5    5  689    0    1    0\n",
      "7    2    3   12    1   10    2    0  640    0   24\n",
      "8    1    6   11   15    3   14    3    2  591    4\n",
      "9    1    3    6   16   25    2    0   13    4  616 \n",
      "\n",
      "\n",
      "\n",
      "Accuracy: 0.935714285714 \n",
      "\n",
      "             precision    recall  f1-score   support\n",
      "\n",
      "          0       0.96      0.98      0.97       663\n",
      "          1       0.95      0.99      0.97       771\n",
      "          2       0.92      0.93      0.93       657\n",
      "          3       0.92      0.92      0.92       699\n",
      "          4       0.94      0.94      0.94       680\n",
      "          5       0.91      0.90      0.90       625\n",
      "          6       0.96      0.96      0.96       724\n",
      "          7       0.93      0.93      0.93       772\n",
      "          8       0.94      0.91      0.92       710\n",
      "          9       0.91      0.91      0.91       699\n",
      "\n",
      "avg / total       0.94      0.94      0.94      7000\n",
      "\n",
      "     0    1    2    3    4    5    6    7    8    9\n",
      "0  650    0    0    4    0    5    3    0    1    0\n",
      "1    0  761    3    0    0    2    0    1    3    1\n",
      "2    6    4  609    5    7    3    6    8    8    1\n",
      "3    2    3   11  640    2   18    2    7   12    2\n",
      "4    0    2    4    0  640    0    7    3    1   23\n",
      "5    5    3    6   24    7  560    4    2    8    6\n",
      "6    7    2    5    0    3   11  693    0    3    0\n",
      "7    1    7    8    2    7    3    0  720    0   24\n",
      "8    3   17    8   12    3   11    4    3  644    5\n",
      "9    1    2    5    7   13    5    0   30    3  633 \n",
      "\n",
      "\n",
      "\n"
     ]
    },
    {
     "name": "stderr",
     "output_type": "stream",
     "text": [
      "C:\\Anaconda3\\lib\\site-packages\\seaborn\\categorical.py:2171: UserWarning: The boxplot API has been changed. Attempting to adjust your arguments for the new API (which might not work). Please update your code. See the version 0.6 release notes for more info.\n",
      "  warnings.warn(msg, UserWarning)\n"
     ]
    },
    {
     "data": {
      "text/html": [
       "<div>\n",
       "<table border=\"1\" class=\"dataframe\">\n",
       "  <thead>\n",
       "    <tr style=\"text-align: right;\">\n",
       "      <th></th>\n",
       "      <th>accuracy</th>\n",
       "      <th>precision</th>\n",
       "      <th>recall</th>\n",
       "    </tr>\n",
       "  </thead>\n",
       "  <tbody>\n",
       "    <tr>\n",
       "      <th>0</th>\n",
       "      <td>0.927000</td>\n",
       "      <td>0.926979</td>\n",
       "      <td>0.927000</td>\n",
       "    </tr>\n",
       "    <tr>\n",
       "      <th>1</th>\n",
       "      <td>0.937286</td>\n",
       "      <td>0.937470</td>\n",
       "      <td>0.937286</td>\n",
       "    </tr>\n",
       "    <tr>\n",
       "      <th>2</th>\n",
       "      <td>0.935714</td>\n",
       "      <td>0.935605</td>\n",
       "      <td>0.935714</td>\n",
       "    </tr>\n",
       "  </tbody>\n",
       "</table>\n",
       "</div>"
      ],
      "text/plain": [
       "   accuracy  precision    recall\n",
       "0  0.927000   0.926979  0.927000\n",
       "1  0.937286   0.937470  0.937286\n",
       "2  0.935714   0.935605  0.935714"
      ]
     },
     "execution_count": 27,
     "metadata": {},
     "output_type": "execute_result"
    },
    {
     "data": {
      "image/png": "[encoded data removed]",
      "text/plain": [
       "<matplotlib.figure.Figure at 0x1c9b27a2710>"
      ]
     },
     "metadata": {},
     "output_type": "display_data"
    }
   ],
   "source": [
    "images = pd.DataFrame(images)\n",
    "lTrain = pd.DataFrame(lTrain)\n",
    "kfoldFunction(images, lTrain, SVC(kernel='linear', C=1000), verbose=True, cv=5, plot=True)"
   ]
  },
  {
   "cell_type": "code",
   "execution_count": 26,
   "metadata": {
    "ExecuteTime": {
     "end_time": "2017-03-17T19:45:12.179883",
     "start_time": "2017-03-17T19:44:13.080549"
    },
    "collapsed": true
   },
   "outputs": [
    {
     "name": "stderr",
     "output_type": "stream",
     "text": [
      "C:\\Anaconda3\\lib\\site-packages\\sklearn\\utils\\validation.py:526: DataConversionWarning: A column-vector y was passed when a 1d array was expected. Please change the shape of y to (n_samples, ), for example using ravel().\n",
      "  y = column_or_1d(y, warn=True)\n"
     ]
    },
    {
     "name": "stdout",
     "output_type": "stream",
     "text": [
      "Accuracy: 0.902 \n",
      "\n",
      "             precision    recall  f1-score   support\n",
      "\n",
      "          0       0.95      0.97      0.96       681\n",
      "          1       0.95      0.97      0.96       811\n",
      "          2       0.90      0.87      0.88       686\n",
      "          3       0.87      0.86      0.87       746\n",
      "          4       0.88      0.91      0.89       686\n",
      "          5       0.85      0.82      0.83       635\n",
      "          6       0.91      0.95      0.93       658\n",
      "          7       0.94      0.91      0.93       728\n",
      "          8       0.87      0.86      0.86       665\n",
      "          9       0.88      0.88      0.88       704\n",
      "\n",
      "avg / total       0.90      0.90      0.90      7000\n",
      "\n",
      "     0    1    2    3    4    5    6    7    8    9\n",
      "0  662    0    4    0    2    4    8    0    1    0\n",
      "1    0  790    4    4    1    4    0    0    8    0\n",
      "2    9    4  596    8   14    6   12   15   20    2\n",
      "3    3    5   19  645    2   31    8    6   18    9\n",
      "4    0    5    8    2  625    1    8    2    7   28\n",
      "5    7    2    4   41   14  520   18    3   18    8\n",
      "6    1    2    1    1    6   16  626    0    4    1\n",
      "7    4    8   14    3    8    2    0  664    3   22\n",
      "8    3   15    7   24    5   23    5    2  570   11\n",
      "9    5    3    5   12   34    6    2   13    8  616 \n",
      "\n",
      "\n",
      "\n",
      "Accuracy: 0.912285714286 \n",
      "\n",
      "             precision    recall  f1-score   support\n",
      "\n",
      "          0       0.95      0.97      0.96       676\n",
      "          1       0.95      0.97      0.96       777\n",
      "          2       0.91      0.87      0.89       690\n",
      "          3       0.89      0.89      0.89       749\n",
      "          4       0.91      0.94      0.93       719\n",
      "          5       0.87      0.85      0.86       642\n",
      "          6       0.94      0.95      0.94       717\n",
      "          7       0.94      0.91      0.92       694\n",
      "          8       0.86      0.88      0.87       650\n",
      "          9       0.89      0.88      0.88       686\n",
      "\n",
      "avg / total       0.91      0.91      0.91      7000\n",
      "\n",
      "     0    1    2    3    4    5    6    7    8    9\n",
      "0  657    0    2    2    1    6    4    0    4    0\n",
      "1    0  754    4    3    0    3    1    1   10    1\n",
      "2    0    8  602   12   17    3   13   12   19    4\n",
      "3    2    4   22  667    1   22    6    3   18    4\n",
      "4    2    2    4    1  675    1    4    2    5   23\n",
      "5   11    4    1   29   11  543   15    2   17    9\n",
      "6   13    2    4    1    5    4  683    2    3    0\n",
      "7    1    4    9    3   10    6    0  631    2   28\n",
      "8    4    8    7   18    1   28    3    1  572    8\n",
      "9    3    6    3   16   19    5    0   19   13  602 \n",
      "\n",
      "\n",
      "\n",
      "Accuracy: 0.914142857143 \n",
      "\n",
      "             precision    recall  f1-score   support\n",
      "\n",
      "          0       0.96      0.97      0.97       663\n",
      "          1       0.94      0.97      0.96       771\n",
      "          2       0.91      0.89      0.90       657\n",
      "          3       0.91      0.87      0.89       699\n",
      "          4       0.92      0.92      0.92       680\n",
      "          5       0.87      0.85      0.86       625\n",
      "          6       0.95      0.96      0.95       724\n",
      "          7       0.92      0.93      0.93       772\n",
      "          8       0.89      0.87      0.88       710\n",
      "          9       0.87      0.88      0.87       699\n",
      "\n",
      "avg / total       0.91      0.91      0.91      7000\n",
      "\n",
      "     0    1    2    3    4    5    6    7    8    9\n",
      "0  646    0    1    0    0    5    8    0    3    0\n",
      "1    0  749    3    2    0    4    1    1    9    2\n",
      "2    5    5  586   10    8    3    6   13   17    4\n",
      "3    2    4   23  611    1   23    3    8   16    8\n",
      "4    0    3    3    0  628    1    5    1    6   33\n",
      "5    6    6    7   25   12  530   10    3   13   13\n",
      "6    2    2    2    0    3   12  697    1    5    0\n",
      "7    3    7    7    1    6    1    0  721    2   24\n",
      "8    5   18    8   19    4   19    7    3  615   12\n",
      "9    3    2    1    6   21   11    0   34    5  616 \n",
      "\n",
      "\n",
      "\n"
     ]
    },
    {
     "name": "stderr",
     "output_type": "stream",
     "text": [
      "C:\\Anaconda3\\lib\\site-packages\\seaborn\\categorical.py:2171: UserWarning: The boxplot API has been changed. Attempting to adjust your arguments for the new API (which might not work). Please update your code. See the version 0.6 release notes for more info.\n",
      "  warnings.warn(msg, UserWarning)\n"
     ]
    },
    {
     "data": {
      "text/html": [
       "<div>\n",
       "<table border=\"1\" class=\"dataframe\">\n",
       "  <thead>\n",
       "    <tr style=\"text-align: right;\">\n",
       "      <th></th>\n",
       "      <th>accuracy</th>\n",
       "      <th>precision</th>\n",
       "      <th>recall</th>\n",
       "    </tr>\n",
       "  </thead>\n",
       "  <tbody>\n",
       "    <tr>\n",
       "      <th>0</th>\n",
       "      <td>0.902000</td>\n",
       "      <td>0.901672</td>\n",
       "      <td>0.902000</td>\n",
       "    </tr>\n",
       "    <tr>\n",
       "      <th>1</th>\n",
       "      <td>0.912286</td>\n",
       "      <td>0.912123</td>\n",
       "      <td>0.912286</td>\n",
       "    </tr>\n",
       "    <tr>\n",
       "      <th>2</th>\n",
       "      <td>0.914143</td>\n",
       "      <td>0.913816</td>\n",
       "      <td>0.914143</td>\n",
       "    </tr>\n",
       "  </tbody>\n",
       "</table>\n",
       "</div>"
      ],
      "text/plain": [
       "   accuracy  precision    recall\n",
       "0  0.902000   0.901672  0.902000\n",
       "1  0.912286   0.912123  0.912286\n",
       "2  0.914143   0.913816  0.914143"
      ]
     },
     "execution_count": 26,
     "metadata": {},
     "output_type": "execute_result"
    },
    {
     "data": {
      "image/png": "[encoded data removed]",
      "text/plain": [
       "<matplotlib.figure.Figure at 0x1c9b4b9fa90>"
      ]
     },
     "metadata": {},
     "output_type": "display_data"
    }
   ],
   "source": [
    "kfoldFunction(images, lTrain, LogisticRegression(C=6000), verbose=True, cv=5, plot=True)"
   ]
  },
  {
   "cell_type": "code",
   "execution_count": 22,
   "metadata": {
    "ExecuteTime": {
     "end_time": "2017-03-17T19:36:19.753160",
     "start_time": "2017-03-17T19:36:18.738989"
    },
    "collapsed": false,
    "scrolled": false
   },
   "outputs": [
    {
     "data": {
      "image/png": "[encoded data removed]",
      "text/plain": [
       "<matplotlib.figure.Figure at 0x1c9b49629b0>"
      ]
     },
     "metadata": {},
     "output_type": "display_data"
    }
   ],
   "source": [
    "for i in range(25):\n",
    "    plt.subplot(5, 5, i + 1)\n",
    "    plt.xticks(())\n",
    "    plt.yticks(())\n",
    "    plt.imshow(rbm.components_[i].reshape(28,28))"
   ]
  },
  {
   "cell_type": "code",
   "execution_count": 204,
   "metadata": {
    "ExecuteTime": {
     "end_time": "2017-03-13T01:16:44.718721",
     "start_time": "2017-03-13T01:16:44.029059"
    },
    "collapsed": false
   },
   "outputs": [
    {
     "name": "stderr",
     "output_type": "stream",
     "text": [
      "C:\\Anaconda3\\lib\\site-packages\\ipykernel\\__main__.py:5: FutureWarning: reshape is deprecated and will raise in a subsequent release. Please use .values.reshape(...) instead\n"
     ]
    },
    {
     "data": {
      "image/png": "[encoded data removed]",
      "text/plain": [
       "<matplotlib.figure.Figure at 0x2a12649f2e8>"
      ]
     },
     "metadata": {},
     "output_type": "display_data"
    }
   ],
   "source": [
    "for i in range(len(misclassifications)):\n",
    "    plt.subplot(4, 4, i + 1)\n",
    "    plt.xticks(())\n",
    "    plt.yticks(())\n",
    "    plt.imshow(misclassifications.iloc[i].reshape(28,28), cmap=plt.cm.gray_r, interpolation='nearest')"
   ]
  },
  {
   "cell_type": "markdown",
   "metadata": {},
   "source": [
    "## Multiple Layer RBM"
   ]
  },
  {
   "cell_type": "code",
   "execution_count": 162,
   "metadata": {
    "ExecuteTime": {
     "end_time": "2017-03-10T19:50:38.365597",
     "start_time": "2017-03-10T19:50:38.359581"
    },
    "collapsed": false
   },
   "outputs": [],
   "source": [
    "# Params\n",
    "c = 6000\n",
    "\n",
    "n_components = int(len(iTrain[0]))\n",
    "n_iter = 2\n",
    "learning_rate = 0.1\n",
    "\n",
    "\n",
    "logistic = LogisticRegression(C=c)\n",
    "rbm = BernoulliRBM(n_components=n_components, batch_size=200, n_iter=n_iter, learning_rate=learning_rate, random_state=1234, verbose=True)\n",
    "rbm2 = BernoulliRBM(n_components=int(len(iTrain[0])/2), batch_size=200, n_iter=2, learning_rate=0.4, random_state=1234, verbose=True)\n",
    "classifier = Pipeline(steps=[('rbm', rbm2), ('logistic', logistic)])"
   ]
  },
  {
   "cell_type": "code",
   "execution_count": 163,
   "metadata": {
    "ExecuteTime": {
     "end_time": "2017-03-10T19:51:33.629465",
     "start_time": "2017-03-10T19:50:38.591421"
    },
    "collapsed": false
   },
   "outputs": [
    {
     "name": "stdout",
     "output_type": "stream",
     "text": [
      "[BernoulliRBM] Iteration 1, pseudo-likelihood = -14.57, time = 18.12s\n",
      "[BernoulliRBM] Iteration 2, pseudo-likelihood = -14.52, time = 25.57s\n"
     ]
    }
   ],
   "source": [
    "rbm.fit(iTrain, lTrain)\n",
    "layer2Components = rbm.transform(iTrain)"
   ]
  },
  {
   "cell_type": "code",
   "execution_count": 164,
   "metadata": {
    "ExecuteTime": {
     "end_time": "2017-03-10T19:52:07.158246",
     "start_time": "2017-03-10T19:51:33.630466"
    },
    "collapsed": false,
    "scrolled": true
   },
   "outputs": [
    {
     "name": "stdout",
     "output_type": "stream",
     "text": [
      "[BernoulliRBM] Iteration 1, pseudo-likelihood = -537.75, time = 9.93s\n",
      "[BernoulliRBM] Iteration 2, pseudo-likelihood = -537.70, time = 14.23s\n"
     ]
    },
    {
     "data": {
      "text/plain": [
       "Pipeline(steps=[('rbm', BernoulliRBM(batch_size=200, learning_rate=0.4, n_components=392, n_iter=2,\n",
       "       random_state=1234, verbose=True)), ('logistic', LogisticRegression(C=6000, class_weight=None, dual=False, fit_intercept=True,\n",
       "          intercept_scaling=1, max_iter=100, multi_class='ovr', n_jobs=1,\n",
       "          penalty='l2', random_state=None, solver='liblinear', tol=0.0001,\n",
       "          verbose=0, warm_start=False))])"
      ]
     },
     "execution_count": 164,
     "metadata": {},
     "output_type": "execute_result"
    }
   ],
   "source": [
    "classifier.fit(layer2Components, lTrain)"
   ]
  },
  {
   "cell_type": "code",
   "execution_count": 165,
   "metadata": {
    "ExecuteTime": {
     "end_time": "2017-03-10T19:52:08.354407",
     "start_time": "2017-03-10T19:52:07.159748"
    },
    "collapsed": false
   },
   "outputs": [],
   "source": [
    "rbmLayer1Pred = rbm.transform(iTest)\n",
    "rbmPred = classifier.predict(rbmLayer1Pred)"
   ]
  },
  {
   "cell_type": "code",
   "execution_count": 166,
   "metadata": {
    "ExecuteTime": {
     "end_time": "2017-03-10T19:52:08.374927",
     "start_time": "2017-03-10T19:52:08.355897"
    },
    "collapsed": false
   },
   "outputs": [
    {
     "name": "stdout",
     "output_type": "stream",
     "text": [
      "             precision    recall  f1-score   support\n",
      "\n",
      "          0       0.00      0.00      0.00       804\n",
      "          1       0.11      1.00      0.20       948\n",
      "          2       0.00      0.00      0.00       807\n",
      "          3       0.00      0.00      0.00       894\n",
      "          4       0.00      0.00      0.00       850\n",
      "          5       0.00      0.00      0.00       802\n",
      "          6       0.00      0.00      0.00       808\n",
      "          7       0.00      0.00      0.00       847\n",
      "          8       0.00      0.00      0.00       814\n",
      "          9       0.00      0.00      0.00       826\n",
      "\n",
      "avg / total       0.01      0.11      0.02      8400\n",
      "\n"
     ]
    },
    {
     "name": "stderr",
     "output_type": "stream",
     "text": [
      "C:\\Anaconda3\\lib\\site-packages\\sklearn\\metrics\\classification.py:1113: UndefinedMetricWarning: Precision and F-score are ill-defined and being set to 0.0 in labels with no predicted samples.\n",
      "  'precision', 'predicted', average, warn_for)\n"
     ]
    },
    {
     "data": {
      "text/html": [
       "<div>\n",
       "<table border=\"1\" class=\"dataframe\">\n",
       "  <thead>\n",
       "    <tr style=\"text-align: right;\">\n",
       "      <th></th>\n",
       "      <th>0</th>\n",
       "      <th>1</th>\n",
       "      <th>2</th>\n",
       "      <th>3</th>\n",
       "      <th>4</th>\n",
       "      <th>5</th>\n",
       "      <th>6</th>\n",
       "      <th>7</th>\n",
       "      <th>8</th>\n",
       "      <th>9</th>\n",
       "    </tr>\n",
       "  </thead>\n",
       "  <tbody>\n",
       "    <tr>\n",
       "      <th>0</th>\n",
       "      <td>0</td>\n",
       "      <td>804</td>\n",
       "      <td>0</td>\n",
       "      <td>0</td>\n",
       "      <td>0</td>\n",
       "      <td>0</td>\n",
       "      <td>0</td>\n",
       "      <td>0</td>\n",
       "      <td>0</td>\n",
       "      <td>0</td>\n",
       "    </tr>\n",
       "    <tr>\n",
       "      <th>1</th>\n",
       "      <td>0</td>\n",
       "      <td>948</td>\n",
       "      <td>0</td>\n",
       "      <td>0</td>\n",
       "      <td>0</td>\n",
       "      <td>0</td>\n",
       "      <td>0</td>\n",
       "      <td>0</td>\n",
       "      <td>0</td>\n",
       "      <td>0</td>\n",
       "    </tr>\n",
       "    <tr>\n",
       "      <th>2</th>\n",
       "      <td>0</td>\n",
       "      <td>807</td>\n",
       "      <td>0</td>\n",
       "      <td>0</td>\n",
       "      <td>0</td>\n",
       "      <td>0</td>\n",
       "      <td>0</td>\n",
       "      <td>0</td>\n",
       "      <td>0</td>\n",
       "      <td>0</td>\n",
       "    </tr>\n",
       "    <tr>\n",
       "      <th>3</th>\n",
       "      <td>0</td>\n",
       "      <td>894</td>\n",
       "      <td>0</td>\n",
       "      <td>0</td>\n",
       "      <td>0</td>\n",
       "      <td>0</td>\n",
       "      <td>0</td>\n",
       "      <td>0</td>\n",
       "      <td>0</td>\n",
       "      <td>0</td>\n",
       "    </tr>\n",
       "    <tr>\n",
       "      <th>4</th>\n",
       "      <td>0</td>\n",
       "      <td>850</td>\n",
       "      <td>0</td>\n",
       "      <td>0</td>\n",
       "      <td>0</td>\n",
       "      <td>0</td>\n",
       "      <td>0</td>\n",
       "      <td>0</td>\n",
       "      <td>0</td>\n",
       "      <td>0</td>\n",
       "    </tr>\n",
       "    <tr>\n",
       "      <th>5</th>\n",
       "      <td>0</td>\n",
       "      <td>802</td>\n",
       "      <td>0</td>\n",
       "      <td>0</td>\n",
       "      <td>0</td>\n",
       "      <td>0</td>\n",
       "      <td>0</td>\n",
       "      <td>0</td>\n",
       "      <td>0</td>\n",
       "      <td>0</td>\n",
       "    </tr>\n",
       "    <tr>\n",
       "      <th>6</th>\n",
       "      <td>0</td>\n",
       "      <td>808</td>\n",
       "      <td>0</td>\n",
       "      <td>0</td>\n",
       "      <td>0</td>\n",
       "      <td>0</td>\n",
       "      <td>0</td>\n",
       "      <td>0</td>\n",
       "      <td>0</td>\n",
       "      <td>0</td>\n",
       "    </tr>\n",
       "    <tr>\n",
       "      <th>7</th>\n",
       "      <td>0</td>\n",
       "      <td>847</td>\n",
       "      <td>0</td>\n",
       "      <td>0</td>\n",
       "      <td>0</td>\n",
       "      <td>0</td>\n",
       "      <td>0</td>\n",
       "      <td>0</td>\n",
       "      <td>0</td>\n",
       "      <td>0</td>\n",
       "    </tr>\n",
       "    <tr>\n",
       "      <th>8</th>\n",
       "      <td>0</td>\n",
       "      <td>814</td>\n",
       "      <td>0</td>\n",
       "      <td>0</td>\n",
       "      <td>0</td>\n",
       "      <td>0</td>\n",
       "      <td>0</td>\n",
       "      <td>0</td>\n",
       "      <td>0</td>\n",
       "      <td>0</td>\n",
       "    </tr>\n",
       "    <tr>\n",
       "      <th>9</th>\n",
       "      <td>0</td>\n",
       "      <td>826</td>\n",
       "      <td>0</td>\n",
       "      <td>0</td>\n",
       "      <td>0</td>\n",
       "      <td>0</td>\n",
       "      <td>0</td>\n",
       "      <td>0</td>\n",
       "      <td>0</td>\n",
       "      <td>0</td>\n",
       "    </tr>\n",
       "  </tbody>\n",
       "</table>\n",
       "</div>"
      ],
      "text/plain": [
       "   0    1  2  3  4  5  6  7  8  9\n",
       "0  0  804  0  0  0  0  0  0  0  0\n",
       "1  0  948  0  0  0  0  0  0  0  0\n",
       "2  0  807  0  0  0  0  0  0  0  0\n",
       "3  0  894  0  0  0  0  0  0  0  0\n",
       "4  0  850  0  0  0  0  0  0  0  0\n",
       "5  0  802  0  0  0  0  0  0  0  0\n",
       "6  0  808  0  0  0  0  0  0  0  0\n",
       "7  0  847  0  0  0  0  0  0  0  0\n",
       "8  0  814  0  0  0  0  0  0  0  0\n",
       "9  0  826  0  0  0  0  0  0  0  0"
      ]
     },
     "execution_count": 166,
     "metadata": {},
     "output_type": "execute_result"
    }
   ],
   "source": [
    "print(classification_report(lTest, rbmPred))\n",
    "pd.DataFrame(confusion_matrix(lTest, rbmPred))"
   ]
  },
  {
   "cell_type": "code",
   "execution_count": null,
   "metadata": {
    "collapsed": true
   },
   "outputs": [],
   "source": []
  }
 ],
 "metadata": {
  "anaconda-cloud": {},
  "kernelspec": {
   "display_name": "Python 3",
   "language": "python",
   "name": "python3"
  },
  "language_info": {
   "codemirror_mode": {
    "name": "ipython",
    "version": 3
   },
   "file_extension": ".py",
   "mimetype": "text/x-python",
   "name": "python",
   "nbconvert_exporter": "python",
   "pygments_lexer": "ipython3",
   "version": "3.6.0"
  },
  "toc": {
   "colors": {
    "hover_highlight": "#DAA520",
    "running_highlight": "#FF0000",
    "selected_highlight": "#FFD700"
   },
   "moveMenuLeft": true,
   "nav_menu": {
    "height": "12px",
    "width": "252px"
   },
   "navigate_menu": true,
   "number_sections": true,
   "sideBar": true,
   "threshold": 4,
   "toc_cell": false,
   "toc_section_display": "block",
   "toc_window_display": false
  }
 },
 "nbformat": 4,
 "nbformat_minor": 1
}
