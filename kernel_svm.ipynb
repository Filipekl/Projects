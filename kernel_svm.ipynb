{
 "cells": [
  {
   "cell_type": "code",
   "execution_count": 58,
   "metadata": {
    "ExecuteTime": {
     "end_time": "2017-02-20T18:13:48.748980",
     "start_time": "2017-02-20T18:13:44.347097"
    }
   },
   "outputs": [],
   "source": [
    "import os, sys\n",
    "import pandas as pd\n",
    "import numpy as np\n",
    "import pickle\n",
    "\n",
    "from scipy.stats import ttest_ind\n",
    "\n",
    "import numpy as np\n",
    "\n",
    "import seaborn as sns\n",
    "\n",
    "from skimage import io\n",
    "from skimage.filters import gaussian\n",
    "\n",
    "from sklearn import svm\n",
    "from sklearn.preprocessing import scale\n",
    "from sklearn.ensemble import RandomForestClassifier\n",
    "from sklearn.decomposition import PCA, KernelPCA, IncrementalPCA\n",
    "from sklearn.model_selection import train_test_split, GridSearchCV, KFold\n",
    "from sklearn.metrics import confusion_matrix, classification_report, accuracy_score, precision_score, recall_score\n",
    "\n",
    "import matplotlib.image as mpimg\n",
    "import matplotlib.pyplot as plt\n",
    "%matplotlib inline"
   ]
  },
  {
   "cell_type": "code",
   "execution_count": 2,
   "metadata": {
    "ExecuteTime": {
     "end_time": "2017-02-20T18:13:48.754999",
     "start_time": "2017-02-20T18:13:48.749982"
    }
   },
   "outputs": [
    {
     "data": {
      "text/html": [
       "<style>.container { width:90% !important; }</style>"
      ],
      "text/plain": [
       "<IPython.core.display.HTML object>"
      ]
     },
     "metadata": {},
     "output_type": "display_data"
    }
   ],
   "source": [
    "from IPython.core.display import display, HTML\n",
    "display(HTML(\"<style>.container { width:90% !important; }</style>\"))\n",
    "\n",
    "pd.set_option(\"display.max_rows\",999)\n",
    "pd.set_option('display.max_columns',999)"
   ]
  },
  {
   "cell_type": "code",
   "execution_count": 3,
   "metadata": {
    "ExecuteTime": {
     "end_time": "2017-02-20T18:13:48.765009",
     "start_time": "2017-02-20T18:13:48.755989"
    }
   },
   "outputs": [],
   "source": [
    "def unpickle(file):\n",
    "    with open(file, 'rb') as f:\n",
    "        u = pickle._Unpickler(f)\n",
    "        u.encoding = 'latin1'\n",
    "        dict = u.load()\n",
    "\n",
    "    return(dict)"
   ]
  },
  {
   "cell_type": "markdown",
   "metadata": {},
   "source": [
    "# Load Data"
   ]
  },
  {
   "cell_type": "code",
   "execution_count": 9,
   "metadata": {
    "ExecuteTime": {
     "end_time": "2017-02-20T18:13:49.706419",
     "start_time": "2017-02-20T18:13:48.765998"
    }
   },
   "outputs": [],
   "source": [
    "labels = []\n",
    "data = []\n",
    "for i in range(5):\n",
    "    readData = unpickle('data/cifar/data_batch_{}'.format(i+1))\n",
    "    labels.append(readData['labels'])\n",
    "    data.append(readData['data'])\n",
    "\n",
    "labels = pd.DataFrame(labels[0] + labels[1] + labels[2] + labels[3] + labels[4], columns = ['labels']).query('(labels == 0) | (labels == 1) | (labels == 2) | (labels == 3)')\n",
    "images = pd.DataFrame(np.vstack(data)).iloc[labels.index]\n",
    "labels = labels.reset_index(drop=True)\n",
    "images = images.reset_index(drop=True)"
   ]
  },
  {
   "cell_type": "code",
   "execution_count": 10,
   "metadata": {
    "ExecuteTime": {
     "end_time": "2017-02-20T18:13:51.888519",
     "start_time": "2017-02-20T18:13:51.883524"
    }
   },
   "outputs": [
    {
     "data": {
      "text/plain": [
       "3    5000\n",
       "2    5000\n",
       "1    5000\n",
       "0    5000\n",
       "Name: labels, dtype: int64"
      ]
     },
     "execution_count": 10,
     "metadata": {},
     "output_type": "execute_result"
    }
   ],
   "source": [
    "labels['labels'].value_counts()"
   ]
  },
  {
   "cell_type": "code",
   "execution_count": 12,
   "metadata": {
    "ExecuteTime": {
     "end_time": "2017-02-20T18:13:57.852643",
     "start_time": "2017-02-20T18:13:57.052976"
    },
    "collapsed": true
   },
   "outputs": [],
   "source": [
    "images = scale(images, axis=1)"
   ]
  },
  {
   "cell_type": "markdown",
   "metadata": {},
   "source": [
    "# Kfold Function"
   ]
  },
  {
   "cell_type": "code",
   "execution_count": 56,
   "metadata": {},
   "outputs": [],
   "source": [
    "class kFold:\n",
    "    def __init__(self, cv):\n",
    "        self._cv = cv\n",
    "        self.variables = None\n",
    "        self.yVars = None\n",
    "        self.mClassifier = None\n",
    "        self._metrics = None\n",
    "        \n",
    "    @property\n",
    "    def cv():\n",
    "        return self._cv\n",
    "    \n",
    "    @property\n",
    "    def metrics():\n",
    "        return self._metrics\n",
    "    \n",
    "    def fit(self, variables, yVars, mClassifier, verbose=False, plot=True):\n",
    "        self.variables = variables\n",
    "        self.yVars = yVars\n",
    "        self.mClassifier = mClassifier\n",
    "        \n",
    "        self._metrics = {\n",
    "            'accuracy': [],\n",
    "            'precision': [],\n",
    "            'recall': []\n",
    "        }\n",
    "\n",
    "        kf = KFold(n_splits = self._cv)\n",
    "\n",
    "        for train_index, test_index in kf.split(self.variables):\n",
    "            xTrain, xTest = variables.iloc[train_index], variables.iloc[test_index]\n",
    "            yTrain, yTest = yVars.iloc[train_index], yVars.iloc[test_index]\n",
    "\n",
    "            self.mClassifier.fit(xTrain, yTrain)\n",
    "            mPredict = self.mClassifier.predict(xTest)\n",
    "\n",
    "            if verbose == True:\n",
    "                print('Accuracy', '.'*5, accuracy_score(yTest, mPredict), '\\n')\n",
    "                print('Classification Report', '.'*5, '\\n')\n",
    "                print(classification_report(yTest, mPredict))\n",
    "                print('Confusion Matrix', '.'*5, '\\n')\n",
    "                print(pd.DataFrame(confusion_matrix(yTest, mPredict)), '\\n\\n\\n')\n",
    "            self._metrics['accuracy'].append(accuracy_score(yTest, mPredict))\n",
    "            self._metrics['precision'].append(precision_score(yTest, mPredict, average='weighted'))\n",
    "            self._metrics['recall'].append(recall_score(yTest, mPredict, average='weighted'))\n",
    "\n",
    "#         metrics = pd.DataFrame([accuracy,precision,recall]).T\n",
    "#         metrics.columns = ['accuracy','precision','recall']\n",
    "        if plot == True:\n",
    "            plt.figure()\n",
    "            plt.title(f\"Accuracy: Mean {round(np.average(self._metrics['accuracy']), 4)} | SD {round(np.std(self._metrics['accuracy']), 4)}\")\n",
    "            sns.boxplot(pd.DataFrame(self._metrics))"
   ]
  },
  {
   "cell_type": "code",
   "execution_count": 13,
   "metadata": {
    "ExecuteTime": {
     "end_time": "2017-02-20T18:13:58.714391",
     "start_time": "2017-02-20T18:13:58.698875"
    },
    "collapsed": true
   },
   "outputs": [],
   "source": [
    "def kfoldFunction(variables, yVars, mClassifier, cv = 5, verbose = False, plot = False):\n",
    "    accuracy = []\n",
    "    precision = []\n",
    "    recall = []\n",
    "    kf = KFold(n_splits = cv)\n",
    "\n",
    "    for train_index, test_index in kf.split(variables):\n",
    "        xTrain, xTest = variables.iloc[train_index], variables.iloc[test_index]\n",
    "        yTrain, yTest = yVars.iloc[train_index], yVars.iloc[test_index]\n",
    "\n",
    "        mClassifier = mClassifier.fit(xTrain, yTrain)\n",
    "        mPredict = mClassifier.predict(xTest)\n",
    "\n",
    "        if verbose == True:\n",
    "            print('Accuracy:', accuracy_score(yTest, mPredict), '\\n')\n",
    "            print(classification_report(yTest, mPredict))\n",
    "            print(pd.DataFrame(confusion_matrix(yTest, mPredict)), '\\n\\n\\n')\n",
    "        accuracy.append(accuracy_score(yTest, mPredict))\n",
    "        precision.append(precision_score(yTest, mPredict, average='weighted'))\n",
    "        recall.append(recall_score(yTest, mPredict, average='weighted'))\n",
    "    \n",
    "    metrics = pd.DataFrame([accuracy,precision,recall]).T\n",
    "    metrics.columns = ['accuracy','precision','recall']\n",
    "    if plot == True:\n",
    "        plt.figure()\n",
    "        plt.title('Accuracy: Mean {} | SD {}'.format(round(np.average(accuracy),4), round(np.std(accuracy),4)))\n",
    "\n",
    "        sns.boxplot(metrics)\n",
    "    return(metrics)"
   ]
  },
  {
   "cell_type": "markdown",
   "metadata": {},
   "source": [
    "## Sample"
   ]
  },
  {
   "cell_type": "code",
   "execution_count": 15,
   "metadata": {
    "ExecuteTime": {
     "end_time": "2017-02-20T18:14:04.674628",
     "start_time": "2017-02-20T18:14:02.819088"
    }
   },
   "outputs": [],
   "source": [
    "imagesSamp, imagesSamp2, labelsSamp, labelsSamp2 = train_test_split(images, labels, test_size=0.75)"
   ]
  },
  {
   "cell_type": "markdown",
   "metadata": {},
   "source": [
    "# Feature Extraction"
   ]
  },
  {
   "cell_type": "markdown",
   "metadata": {},
   "source": [
    "## Regular Pixels"
   ]
  },
  {
   "cell_type": "markdown",
   "metadata": {},
   "source": [
    "### PCA"
   ]
  },
  {
   "cell_type": "code",
   "execution_count": 16,
   "metadata": {
    "ExecuteTime": {
     "end_time": "2017-02-20T01:52:04.054268",
     "start_time": "2017-02-20T01:52:02.855119"
    }
   },
   "outputs": [],
   "source": [
    "pca = PCA(n_components=50)\n",
    "pca.fit(imagesSamp)\n",
    "imagesTrans = pca.fit_transform(imagesSamp)"
   ]
  },
  {
   "cell_type": "code",
   "execution_count": 17,
   "metadata": {
    "ExecuteTime": {
     "end_time": "2017-02-20T01:52:04.200409",
     "start_time": "2017-02-20T01:52:04.055270"
    }
   },
   "outputs": [
    {
     "data": {
      "text/plain": [
       "<matplotlib.axes._subplots.AxesSubplot at 0x1c2794f550>"
      ]
     },
     "execution_count": 17,
     "metadata": {},
     "output_type": "execute_result"
    },
    {
     "data": {
      "image/png": "[encoded data removed]",
      "text/plain": [
       "<matplotlib.figure.Figure at 0x1c2799fa90>"
      ]
     },
     "metadata": {},
     "output_type": "display_data"
    }
   ],
   "source": [
    "pd.DataFrame(pca.explained_variance_ratio_.cumsum(), columns = ['variance']).plot()"
   ]
  },
  {
   "cell_type": "code",
   "execution_count": null,
   "metadata": {
    "collapsed": true
   },
   "outputs": [],
   "source": [
    "### Kernal PCA Sigmoid\n",
    "\n",
    "kpca = KernelPCA(n_components=50, kernel='sigmoid', n_jobs=-1)\n",
    "kpca.fit(np.array(imagesSamp))\n",
    "kSigImageTrans = kpca.fit_transform(imagesSamp)\n",
    "\n",
    "### Kernal PCA Linear\n",
    "\n",
    "kpca = KernelPCA(n_components=50, kernel='linear', n_jobs=-1)\n",
    "kpca.fit(np.array(imagesSamp))\n",
    "kLinImageTrans = kpca.fit_transform(imagesSamp)\n",
    "\n",
    "### Kernal PCA poly\n",
    "\n",
    "kpca = KernelPCA(n_components=50, kernel='poly', n_jobs=-1)\n",
    "kpca.fit(np.array(imagesSamp))\n",
    "kPolyImageTrans = kpca.fit_transform(imagesSamp)\n",
    "\n",
    "### Kernal PCA Cosine\n",
    "\n",
    "kpca = KernelPCA(n_components=50, kernel='cosine', n_jobs=-1)\n",
    "kpca.fit(np.array(imagesSamp))\n",
    "kCosImageTrans = kpca.fit_transform(imagesSamp)"
   ]
  },
  {
   "cell_type": "markdown",
   "metadata": {},
   "source": [
    "## Gaussian Blur Filter"
   ]
  },
  {
   "cell_type": "code",
   "execution_count": 22,
   "metadata": {
    "ExecuteTime": {
     "end_time": "2017-02-20T01:55:11.727599",
     "start_time": "2017-02-20T01:55:11.240132"
    }
   },
   "outputs": [],
   "source": [
    "imagesGBlur = imagesSamp\n",
    "for i in range(len(imagesSamp)):\n",
    "    blurredImage = gaussian(imagesSamp[i].reshape((3,1024)).swapaxes(0,1).reshape((32, 32, 3)), sigma=.5, multichannel=True)\n",
    "    imagesGBlur[i] = blurredImage.reshape(-1)"
   ]
  },
  {
   "cell_type": "markdown",
   "metadata": {},
   "source": [
    "### PCA"
   ]
  },
  {
   "cell_type": "code",
   "execution_count": 23,
   "metadata": {
    "ExecuteTime": {
     "end_time": "2017-02-20T01:55:30.100506",
     "start_time": "2017-02-20T01:55:29.167611"
    }
   },
   "outputs": [],
   "source": [
    "pca = PCA(n_components=15)\n",
    "pca.fit(imagesGBlur)\n",
    "imagesTransG = pca.fit_transform(imagesSamp)"
   ]
  },
  {
   "cell_type": "code",
   "execution_count": 24,
   "metadata": {
    "ExecuteTime": {
     "end_time": "2017-02-20T01:55:30.218619",
     "start_time": "2017-02-20T01:55:30.101507"
    },
    "scrolled": true
   },
   "outputs": [
    {
     "data": {
      "text/plain": [
       "<matplotlib.axes._subplots.AxesSubplot at 0x1c21ff6eb8>"
      ]
     },
     "execution_count": 24,
     "metadata": {},
     "output_type": "execute_result"
    },
    {
     "data": {
      "image/png": "[encoded data removed]",
      "text/plain": [
       "<matplotlib.figure.Figure at 0x1c25afe160>"
      ]
     },
     "metadata": {},
     "output_type": "display_data"
    }
   ],
   "source": [
    "pd.DataFrame(pca.explained_variance_ratio_.cumsum(), columns = ['variance']).plot()"
   ]
  },
  {
   "cell_type": "code",
   "execution_count": 59,
   "metadata": {
    "collapsed": true
   },
   "outputs": [],
   "source": [
    "### Kernal PCA Sigmoid\n",
    "\n",
    "kpca = KernelPCA(n_components=15, kernel='sigmoid', n_jobs=-1)\n",
    "kpca.fit(np.array(imagesGBlur))\n",
    "kSigImageTransG = kpca.fit_transform(imagesGBlur)\n",
    "\n",
    "### Kernal PCA Linear\n",
    "\n",
    "kpca = KernelPCA(n_components=15, kernel='linear', n_jobs=-1)\n",
    "kpca.fit(np.array(imagesGBlur))\n",
    "kLinImageTransG = kpca.fit_transform(imagesGBlur)\n",
    "\n",
    "### Kernal PCA poly\n",
    "\n",
    "kpca = KernelPCA(n_components=15, kernel='poly', n_jobs=-1)\n",
    "kpca.fit(np.array(imagesGBlur))\n",
    "kPolyImageTransG = kpca.fit_transform(imagesGBlur)\n",
    "\n",
    "### Kernal PCA Cosine\n",
    "\n",
    "kpca = KernelPCA(n_components=15, kernel='cosine', n_jobs=-1)\n",
    "kpca.fit(np.array(imagesGBlur))\n",
    "kCosImageTransG = kpca.fit_transform(imagesGBlur)"
   ]
  },
  {
   "cell_type": "markdown",
   "metadata": {},
   "source": [
    "# Modeling"
   ]
  },
  {
   "cell_type": "markdown",
   "metadata": {},
   "source": [
    "## Parameter Selection: Raw Pixel Data"
   ]
  },
  {
   "cell_type": "markdown",
   "metadata": {},
   "source": [
    "### rbf"
   ]
  },
  {
   "cell_type": "code",
   "execution_count": 29,
   "metadata": {
    "ExecuteTime": {
     "end_time": "2017-02-20T01:57:47.042234",
     "start_time": "2017-02-20T01:57:47.039731"
    }
   },
   "outputs": [],
   "source": [
    "dataDict = {\n",
    "    'PCA': imagesTrans, \n",
    "    'Sigmoid PCA': kSigImageTrans,\n",
    "    'Linear PCA': kLinImageTrans, \n",
    "    'Poly PCA': kPolyImageTrans, \n",
    "    'Cosine PCA': kCosImageTrans\n",
    "}"
   ]
  },
  {
   "cell_type": "code",
   "execution_count": 30,
   "metadata": {
    "ExecuteTime": {
     "end_time": "2017-02-20T02:00:18.709591",
     "start_time": "2017-02-20T01:57:49.705076"
    },
    "scrolled": false
   },
   "outputs": [
    {
     "name": "stdout",
     "output_type": "stream",
     "text": [
      "\n",
      " PCA\n",
      "best score:  0.6848\n",
      "SVC(C=100, cache_size=200, class_weight='balanced', coef0=0.0,\n",
      "  decision_function_shape='ovr', degree=3, gamma=0.001, kernel='rbf',\n",
      "  max_iter=-1, probability=False, random_state=None, shrinking=True,\n",
      "  tol=0.001, verbose=False)\n",
      "\n",
      " Sigmoid PCA\n",
      "best score:  0.6018\n",
      "SVC(C=100000.0, cache_size=200, class_weight='balanced', coef0=0.0,\n",
      "  decision_function_shape='ovr', degree=3, gamma=0.001, kernel='rbf',\n",
      "  max_iter=-1, probability=False, random_state=None, shrinking=True,\n",
      "  tol=0.001, verbose=False)\n",
      "\n",
      " Linear PCA\n",
      "best score:  0.6846\n",
      "SVC(C=100, cache_size=200, class_weight='balanced', coef0=0.0,\n",
      "  decision_function_shape='ovr', degree=3, gamma=0.001, kernel='rbf',\n",
      "  max_iter=-1, probability=False, random_state=None, shrinking=True,\n",
      "  tol=0.001, verbose=False)\n",
      "\n",
      " Poly PCA\n",
      "best score:  0.6652\n",
      "SVC(C=100000.0, cache_size=200, class_weight='balanced', coef0=0.0,\n",
      "  decision_function_shape='ovr', degree=3, gamma=0.001, kernel='rbf',\n",
      "  max_iter=-1, probability=False, random_state=None, shrinking=True,\n",
      "  tol=0.001, verbose=False)\n",
      "\n",
      " Cosine PCA\n",
      "best score:  0.64\n",
      "SVC(C=100000.0, cache_size=200, class_weight='balanced', coef0=0.0,\n",
      "  decision_function_shape='ovr', degree=3, gamma=0.001, kernel='rbf',\n",
      "  max_iter=-1, probability=False, random_state=None, shrinking=True,\n",
      "  tol=0.001, verbose=False)\n"
     ]
    }
   ],
   "source": [
    "for data in dataDict:\n",
    "    param_grid = {\n",
    "        'C': [1, 100, 1e3, 1e5],\n",
    "        'gamma': [0.0001, 0.0005, 0.001]\n",
    "    }\n",
    "\n",
    "    clf = GridSearchCV(svm.SVC(kernel='rbf', class_weight='balanced'), param_grid, n_jobs=-1)\n",
    "    clf = clf.fit(pd.DataFrame(dataDict[data]), labelsSamp['labels'])\n",
    "    print('\\n', data)\n",
    "    print('best score: ', clf.best_score_)\n",
    "    print(clf.best_estimator_)"
   ]
  },
  {
   "cell_type": "markdown",
   "metadata": {},
   "source": [
    "### sigmoid"
   ]
  },
  {
   "cell_type": "code",
   "execution_count": 31,
   "metadata": {
    "ExecuteTime": {
     "end_time": "2017-02-20T02:06:01.916644",
     "start_time": "2017-02-20T02:00:29.208253"
    }
   },
   "outputs": [
    {
     "name": "stdout",
     "output_type": "stream",
     "text": [
      "\n",
      " PCA\n",
      "best score:  0.5956\n",
      "SVC(C=1, cache_size=200, class_weight='balanced', coef0=0,\n",
      "  decision_function_shape='ovr', degree=3, gamma=0.0001, kernel='sigmoid',\n",
      "  max_iter=-1, probability=False, random_state=None, shrinking=True,\n",
      "  tol=0.001, verbose=False)\n",
      "\n",
      " Sigmoid PCA\n",
      "best score:  0.5906\n",
      "SVC(C=1000.0, cache_size=200, class_weight='balanced', coef0=0,\n",
      "  decision_function_shape='ovr', degree=3, gamma=0.001, kernel='sigmoid',\n",
      "  max_iter=-1, probability=False, random_state=None, shrinking=True,\n",
      "  tol=0.001, verbose=False)\n",
      "\n",
      " Linear PCA\n",
      "best score:  0.5966\n",
      "SVC(C=1, cache_size=200, class_weight='balanced', coef0=0,\n",
      "  decision_function_shape='ovr', degree=3, gamma=0.0001, kernel='sigmoid',\n",
      "  max_iter=-1, probability=False, random_state=None, shrinking=True,\n",
      "  tol=0.001, verbose=False)\n"
     ]
    },
    {
     "name": "stderr",
     "output_type": "stream",
     "text": [
      "\n",
      "KeyboardInterrupt\n",
      "\n"
     ]
    }
   ],
   "source": [
    "for data in dataDict:\n",
    "    param_grid = {\n",
    "        'C': [1, 100, 1e3, 1e5],\n",
    "        'gamma': [0.0001, 0.0005, 0.001],\n",
    "        'coef0': [0, 1, 10]\n",
    "    }\n",
    "\n",
    "    clf = GridSearchCV(svm.SVC(kernel='sigmoid', class_weight='balanced'), param_grid, n_jobs=-1)\n",
    "    clf = clf.fit(pd.DataFrame(dataDict[data]), labelsSamp['labels'])\n",
    "    print('\\n', data)\n",
    "    print('best score: ', clf.best_score_)\n",
    "    print(clf.best_estimator_)"
   ]
  },
  {
   "cell_type": "markdown",
   "metadata": {},
   "source": [
    "### poly"
   ]
  },
  {
   "cell_type": "code",
   "execution_count": 32,
   "metadata": {
    "ExecuteTime": {
     "end_time": "2017-02-20T02:15:03.597496",
     "start_time": "2017-02-20T02:06:22.953767"
    },
    "scrolled": false
   },
   "outputs": [
    {
     "name": "stdout",
     "output_type": "stream",
     "text": [
      "\n",
      " PCA\n",
      "best score:  0.6728\n",
      "SVC(C=1, cache_size=200, class_weight='balanced', coef0=1,\n",
      "  decision_function_shape=None, degree=5, gamma=0.0001, kernel='poly',\n",
      "  max_iter=-1, probability=False, random_state=None, shrinking=True,\n",
      "  tol=0.001, verbose=False)\n",
      "\n",
      " Sigmoid PCA\n",
      "best score:  0.5828\n",
      "SVC(C=1000.0, cache_size=200, class_weight='balanced', coef0=1,\n",
      "  decision_function_shape=None, degree=4, gamma=0.001, kernel='poly',\n",
      "  max_iter=-1, probability=False, random_state=None, shrinking=True,\n",
      "  tol=0.001, verbose=False)\n",
      "\n",
      " Linear PCA\n",
      "best score:  0.6716\n",
      "SVC(C=1, cache_size=200, class_weight='balanced', coef0=1,\n",
      "  decision_function_shape=None, degree=5, gamma=0.0001, kernel='poly',\n",
      "  max_iter=-1, probability=False, random_state=None, shrinking=True,\n",
      "  tol=0.001, verbose=False)\n",
      "\n",
      " Poly PCA\n",
      "best score:  0.6388\n",
      "SVC(C=1000.0, cache_size=200, class_weight='balanced', coef0=1,\n",
      "  decision_function_shape=None, degree=5, gamma=0.001, kernel='poly',\n",
      "  max_iter=-1, probability=False, random_state=None, shrinking=True,\n",
      "  tol=0.001, verbose=False)\n",
      "\n",
      " Cosine PCA\n",
      "best score:  0.6026\n",
      "SVC(C=1000.0, cache_size=200, class_weight='balanced', coef0=1,\n",
      "  decision_function_shape=None, degree=5, gamma=0.001, kernel='poly',\n",
      "  max_iter=-1, probability=False, random_state=None, shrinking=True,\n",
      "  tol=0.001, verbose=False)\n"
     ]
    }
   ],
   "source": [
    "for data in dataDict:\n",
    "    param_grid = {\n",
    "        'C': [1, 100, 1e3],\n",
    "        'gamma': [0.0001, 0.0005, 0.001],\n",
    "        'coef0': [0, 0.5, 1],\n",
    "        'degree': [3, 4, 5]\n",
    "    }\n",
    "\n",
    "    clf = GridSearchCV(svm.SVC(kernel='poly', class_weight='balanced'), param_grid, n_jobs=-1)\n",
    "    clf = clf.fit(pd.DataFrame(dataDict[data]), labelsSamp['labels'])\n",
    "    print('\\n', data)\n",
    "    print('best score: ', clf.best_score_)\n",
    "    print(clf.best_estimator_)"
   ]
  },
  {
   "cell_type": "markdown",
   "metadata": {},
   "source": [
    "## Parameter Selection: Gaussian Blur Data"
   ]
  },
  {
   "cell_type": "markdown",
   "metadata": {},
   "source": [
    "### rbf"
   ]
  },
  {
   "cell_type": "code",
   "execution_count": 33,
   "metadata": {
    "ExecuteTime": {
     "end_time": "2017-02-20T02:15:19.163682",
     "start_time": "2017-02-20T02:15:19.161180"
    },
    "collapsed": true
   },
   "outputs": [],
   "source": [
    "dataDict = {'imagesTransG': imagesTransG, 'kSigImageTransG': kSigImageTransG, 'kLinImageTransG': kLinImageTransG, 'kPolyImageTransG': kPolyImageTransG, 'kCosImageTransG': kCosImageTransG}"
   ]
  },
  {
   "cell_type": "code",
   "execution_count": 34,
   "metadata": {
    "ExecuteTime": {
     "end_time": "2017-02-20T02:19:41.823594",
     "start_time": "2017-02-20T02:15:32.777293"
    }
   },
   "outputs": [
    {
     "name": "stdout",
     "output_type": "stream",
     "text": [
      "\n",
      " imagesTransG\n",
      "best score:  0.6384\n",
      "SVC(C=1, cache_size=200, class_weight='balanced', coef0=0.0,\n",
      "  decision_function_shape=None, degree=3, gamma=0.001, kernel='rbf',\n",
      "  max_iter=-1, probability=False, random_state=None, shrinking=True,\n",
      "  tol=0.001, verbose=False)\n",
      "\n",
      " kSigImageTransG\n",
      "best score:  0.5788\n",
      "SVC(C=100000.0, cache_size=200, class_weight='balanced', coef0=0.0,\n",
      "  decision_function_shape=None, degree=3, gamma=0.001, kernel='rbf',\n",
      "  max_iter=-1, probability=False, random_state=None, shrinking=True,\n",
      "  tol=0.001, verbose=False)\n",
      "\n",
      " kLinImageTransG\n",
      "best score:  0.6386\n",
      "SVC(C=1, cache_size=200, class_weight='balanced', coef0=0.0,\n",
      "  decision_function_shape=None, degree=3, gamma=0.001, kernel='rbf',\n",
      "  max_iter=-1, probability=False, random_state=None, shrinking=True,\n",
      "  tol=0.001, verbose=False)\n",
      "\n",
      " kPolyImageTransG\n",
      "best score:  0.616\n",
      "SVC(C=100000.0, cache_size=200, class_weight='balanced', coef0=0.0,\n",
      "  decision_function_shape=None, degree=3, gamma=0.001, kernel='rbf',\n",
      "  max_iter=-1, probability=False, random_state=None, shrinking=True,\n",
      "  tol=0.001, verbose=False)\n",
      "\n",
      " kCosImageTransG\n",
      "best score:  0.6264\n",
      "SVC(C=100000.0, cache_size=200, class_weight='balanced', coef0=0.0,\n",
      "  decision_function_shape=None, degree=3, gamma=0.001, kernel='rbf',\n",
      "  max_iter=-1, probability=False, random_state=None, shrinking=True,\n",
      "  tol=0.001, verbose=False)\n"
     ]
    }
   ],
   "source": [
    "for data in dataDict:\n",
    "    param_grid = {\n",
    "        'C': [1, 100, 1e3, 1e5],\n",
    "        'gamma': [0.0001, 0.0005, 0.001]\n",
    "    }\n",
    "\n",
    "    clf = GridSearchCV(svm.SVC(kernel='rbf', class_weight='balanced'), param_grid, n_jobs=-1)\n",
    "    clf = clf.fit(pd.DataFrame(dataDict[data]), labelsSamp['labels'])\n",
    "    print('\\n', data)\n",
    "    print('best score: ', clf.best_score_)\n",
    "    print(clf.best_estimator_)"
   ]
  },
  {
   "cell_type": "markdown",
   "metadata": {},
   "source": [
    "### sigmoid"
   ]
  },
  {
   "cell_type": "code",
   "execution_count": 35,
   "metadata": {
    "ExecuteTime": {
     "end_time": "2017-02-20T02:23:34.515147",
     "start_time": "2017-02-20T02:20:26.121111"
    },
    "scrolled": false
   },
   "outputs": [
    {
     "name": "stdout",
     "output_type": "stream",
     "text": [
      "\n",
      " imagesTransG\n",
      "best score:  0.5666\n",
      "SVC(C=1, cache_size=200, class_weight='balanced', coef0=0,\n",
      "  decision_function_shape=None, degree=3, gamma=0.0001, kernel='sigmoid',\n",
      "  max_iter=-1, probability=False, random_state=None, shrinking=True,\n",
      "  tol=0.001, verbose=False)\n",
      "\n",
      " kSigImageTransG\n",
      "best score:  0.568\n",
      "SVC(C=100000.0, cache_size=200, class_weight='balanced', coef0=0,\n",
      "  decision_function_shape=None, degree=3, gamma=0.0005, kernel='sigmoid',\n",
      "  max_iter=-1, probability=False, random_state=None, shrinking=True,\n",
      "  tol=0.001, verbose=False)\n",
      "\n",
      " kLinImageTransG\n",
      "best score:  0.5666\n",
      "SVC(C=1, cache_size=200, class_weight='balanced', coef0=0,\n",
      "  decision_function_shape=None, degree=3, gamma=0.0001, kernel='sigmoid',\n",
      "  max_iter=-1, probability=False, random_state=None, shrinking=True,\n",
      "  tol=0.001, verbose=False)\n",
      "\n",
      " kPolyImageTransG\n",
      "best score:  0.5728\n",
      "SVC(C=1000.0, cache_size=200, class_weight='balanced', coef0=0,\n",
      "  decision_function_shape=None, degree=3, gamma=0.0005, kernel='sigmoid',\n",
      "  max_iter=-1, probability=False, random_state=None, shrinking=True,\n",
      "  tol=0.001, verbose=False)\n",
      "\n",
      " kCosImageTransG\n",
      "best score:  0.5758\n",
      "SVC(C=100000.0, cache_size=200, class_weight='balanced', coef0=0,\n",
      "  decision_function_shape=None, degree=3, gamma=0.0001, kernel='sigmoid',\n",
      "  max_iter=-1, probability=False, random_state=None, shrinking=True,\n",
      "  tol=0.001, verbose=False)\n"
     ]
    }
   ],
   "source": [
    "for data in dataDict:\n",
    "    param_grid = {\n",
    "        'C': [1, 100, 1e3, 1e5],\n",
    "        'gamma': [0.0001, 0.0005, 0.001],\n",
    "        'coef0': [0, 1, 10]\n",
    "    }\n",
    "\n",
    "    clf = GridSearchCV(svm.SVC(kernel='sigmoid', class_weight='balanced'), param_grid, n_jobs=-1)\n",
    "    clf = clf.fit(pd.DataFrame(dataDict[data]), labelsSamp['labels'])\n",
    "    print('\\n', data)\n",
    "    print('best score: ', clf.best_score_)\n",
    "    print(clf.best_estimator_)"
   ]
  },
  {
   "cell_type": "markdown",
   "metadata": {},
   "source": [
    "### poly"
   ]
  },
  {
   "cell_type": "code",
   "execution_count": 36,
   "metadata": {
    "ExecuteTime": {
     "end_time": "2017-02-20T03:58:54.293177",
     "start_time": "2017-02-20T02:23:59.816664"
    },
    "scrolled": false
   },
   "outputs": [
    {
     "name": "stdout",
     "output_type": "stream",
     "text": [
      "\n",
      " imagesTransG\n",
      "best score:  0.639\n",
      "SVC(C=1, cache_size=200, class_weight='balanced', coef0=0.5,\n",
      "  decision_function_shape=None, degree=5, gamma=0.0005, kernel='poly',\n",
      "  max_iter=-1, probability=False, random_state=None, shrinking=True,\n",
      "  tol=0.001, verbose=False)\n",
      "\n",
      " kSigImageTransG\n",
      "best score:  0.599\n",
      "SVC(C=100000.0, cache_size=200, class_weight='balanced', coef0=1,\n",
      "  decision_function_shape=None, degree=5, gamma=0.001, kernel='poly',\n",
      "  max_iter=-1, probability=False, random_state=None, shrinking=True,\n",
      "  tol=0.001, verbose=False)\n",
      "\n",
      " kLinImageTransG\n",
      "best score:  0.639\n",
      "SVC(C=1, cache_size=200, class_weight='balanced', coef0=0.5,\n",
      "  decision_function_shape=None, degree=5, gamma=0.0005, kernel='poly',\n",
      "  max_iter=-1, probability=False, random_state=None, shrinking=True,\n",
      "  tol=0.001, verbose=False)\n",
      "\n",
      " kPolyImageTransG\n",
      "best score:  0.6208\n",
      "SVC(C=100000.0, cache_size=200, class_weight='balanced', coef0=1,\n",
      "  decision_function_shape=None, degree=5, gamma=0.001, kernel='poly',\n",
      "  max_iter=-1, probability=False, random_state=None, shrinking=True,\n",
      "  tol=0.001, verbose=False)\n",
      "\n",
      " kCosImageTransG\n",
      "best score:  0.6342\n",
      "SVC(C=100000.0, cache_size=200, class_weight='balanced', coef0=1,\n",
      "  decision_function_shape=None, degree=5, gamma=0.001, kernel='poly',\n",
      "  max_iter=-1, probability=False, random_state=None, shrinking=True,\n",
      "  tol=0.001, verbose=False)\n"
     ]
    }
   ],
   "source": [
    "for data in dataDict:\n",
    "    param_grid = {\n",
    "        'C': [1, 100, 1e3, 1e5],\n",
    "        'gamma': [0.0001, 0.0005, 0.001],\n",
    "        'coef0': [0, 0.5, 1],\n",
    "        'degree': [3, 4, 5]\n",
    "    }\n",
    "\n",
    "    clf = GridSearchCV(svm.SVC(kernel='poly', class_weight='balanced'), param_grid, n_jobs=-1)\n",
    "    clf = clf.fit(pd.DataFrame(dataDict[data]), labelsSamp['labels'])\n",
    "    print('\\n', data)\n",
    "    print('best score: ', clf.best_score_)\n",
    "    print(clf.best_estimator_)"
   ]
  },
  {
   "cell_type": "markdown",
   "metadata": {},
   "source": [
    "## Modeling on PCA"
   ]
  },
  {
   "cell_type": "markdown",
   "metadata": {},
   "source": [
    "#### Student's t-Test"
   ]
  },
  {
   "cell_type": "code",
   "execution_count": 39,
   "metadata": {
    "ExecuteTime": {
     "end_time": "2017-02-20T13:26:55.516472",
     "start_time": "2017-02-20T13:26:55.501458"
    }
   },
   "outputs": [],
   "source": [
    "def metricsTest(data):\n",
    "    for i in range(4):\n",
    "        for j in range(i+1, 5):\n",
    "            print(ttest_ind(data[i]['accuracy'], data[j]['accuracy'], equal_var=False), (ttest_ind(data[0]['accuracy'], data[1]['accuracy'], equal_var=False).pvalue < 0.05))"
   ]
  },
  {
   "cell_type": "markdown",
   "metadata": {},
   "source": [
    "### rbf SVM"
   ]
  },
  {
   "cell_type": "code",
   "execution_count": 40,
   "metadata": {
    "ExecuteTime": {
     "end_time": "2017-02-20T14:31:01.090601",
     "start_time": "2017-02-20T14:31:01.084608"
    },
    "collapsed": true
   },
   "outputs": [],
   "source": [
    "rbfMetrics = []\n",
    "kernel = 'rbf'\n",
    "clf = {\n",
    "    'imagesTrans': [svm.SVC(C=1, class_weight='balanced', gamma=0.001, kernel=kernel), imagesTrans], \n",
    "    'kSigImageTrans' : [svm.SVC(C=100000.0, class_weight='balanced', gamma=0.001, kernel=kernel), kSigImageTrans], \n",
    "    'kLinImageTrans' : [svm.SVC(C=100.0, class_weight='balanced', gamma=0.001, kernel=kernel), kLinImageTrans], \n",
    "    'kPolyImageTrans' : [svm.SVC(C=10000.0, class_weight='balanced', gamma=0.0005, kernel=kernel), kPolyImageTrans], \n",
    "    'kCosImageTrans' : [svm.SVC(C=10000.0, class_weight='balanced', gamma=0.001, kernel=kernel), kCosImageTrans]\n",
    "}"
   ]
  },
  {
   "cell_type": "code",
   "execution_count": 41,
   "metadata": {
    "ExecuteTime": {
     "end_time": "2017-02-20T14:32:59.399978",
     "start_time": "2017-02-20T14:31:01.300228"
    }
   },
   "outputs": [
    {
     "name": "stdout",
     "output_type": "stream",
     "text": [
      "Ttest_indResult(statistic=8.15525406031061, pvalue=2.2313760523468895e-07) True\n",
      "Ttest_indResult(statistic=0.1731018203461796, pvalue=0.8645076476632885) True\n",
      "Ttest_indResult(statistic=5.573920380674981, pvalue=4.414746963312056e-05) True\n",
      "Ttest_indResult(statistic=10.22046571346862, pvalue=3.707427082553462e-08) True\n",
      "Ttest_indResult(statistic=-7.736573889634557, pvalue=5.192206255954535e-07) True\n",
      "Ttest_indResult(statistic=-3.6731121415016124, pvalue=0.0018691032241670796) True\n",
      "Ttest_indResult(statistic=1.245254622539186, pvalue=0.2304954190992003) True\n",
      "Ttest_indResult(statistic=5.185373609214695, pvalue=0.00010318559890207596) True\n",
      "Ttest_indResult(statistic=9.654282158277029, pvalue=1.0135433883802697e-07) True\n",
      "Ttest_indResult(statistic=5.7898612053786485, pvalue=1.78736133363577e-05) True\n"
     ]
    }
   ],
   "source": [
    "for i in clf:\n",
    "    rbfMetrics.append(kfoldFunction(pd.DataFrame(clf[i][1]), labelsSamp['labels'], clf[i][0], cv=10))\n",
    "metricsTest(rbfMetrics)"
   ]
  },
  {
   "cell_type": "markdown",
   "metadata": {},
   "source": [
    "CHOICE:\n",
    "'PCA': "
   ]
  },
  {
   "cell_type": "markdown",
   "metadata": {},
   "source": [
    "### Sigmoid SVM"
   ]
  },
  {
   "cell_type": "code",
   "execution_count": 158,
   "metadata": {
    "ExecuteTime": {
     "end_time": "2017-02-20T14:32:59.407990",
     "start_time": "2017-02-20T14:32:59.400979"
    },
    "collapsed": true
   },
   "outputs": [],
   "source": [
    "sigMetrics = []\n",
    "kernel = 'sigmoid'\n",
    "clf = {'imagesTrans': [svm.SVC(C=1, class_weight='balanced', gamma=0.0001, kernel=kernel), imagesTrans], \n",
    "       'kSigImageTrans' : [svm.SVC(C=100000.0, class_weight='balanced', gamma=0.0001, kernel=kernel), kSigImageTrans], \n",
    "       'kLinImageTrans' : [svm.SVC(C=1.0, class_weight='balanced', gamma=0.0001, kernel=kernel), kLinImageTrans], \n",
    "       'kPolyImageTrans' : [svm.SVC(C=1000.0, class_weight='balanced', gamma=0.001, kernel=kernel), kPolyImageTrans], \n",
    "       'kCosImageTrans' : [svm.SVC(C=1000.0, class_weight='balanced', gamma=0.001, kernel=kernel), kCosImageTrans]}"
   ]
  },
  {
   "cell_type": "code",
   "execution_count": 159,
   "metadata": {
    "ExecuteTime": {
     "end_time": "2017-02-20T14:34:06.980599",
     "start_time": "2017-02-20T14:32:59.409493"
    },
    "scrolled": true
   },
   "outputs": [
    {
     "name": "stdout",
     "output_type": "stream",
     "text": [
      "Ttest_indResult(statistic=0.99057926200437318, pvalue=0.33569654991740272) False\n",
      "Ttest_indResult(statistic=0.023180714250519745, pvalue=0.9817619656904254) False\n",
      "Ttest_indResult(statistic=-4.8121892961197013, pvalue=0.0001429113947144117) True\n",
      "Ttest_indResult(statistic=-0.70210949749940954, pvalue=0.49197870027196222) False\n",
      "\n",
      "\n",
      "Ttest_indResult(statistic=-0.99132165922233473, pvalue=0.3356907261894343) False\n",
      "Ttest_indResult(statistic=-5.2072217455807621, pvalue=8.0282386726395808e-05) True\n",
      "Ttest_indResult(statistic=-1.5347806131561075, pvalue=0.14223496159870719) False\n",
      "\n",
      "\n",
      "Ttest_indResult(statistic=-4.9829025605747068, pvalue=9.6736167099014181e-05) True\n",
      "Ttest_indResult(statistic=-0.73785916432465204, pvalue=0.47075633374707659) False\n",
      "\n",
      "\n",
      "Ttest_indResult(statistic=3.511279044940788, pvalue=0.0027724315200083607) True\n"
     ]
    }
   ],
   "source": [
    "for i in clf:\n",
    "    sigMetrics.append(kfoldFunction(pd.DataFrame(clf[i][1]), labelsSamp['labels'], clf[i][0], cv=10))\n",
    "metricsTest(sigMetrics)"
   ]
  },
  {
   "cell_type": "markdown",
   "metadata": {},
   "source": [
    "CHOICE:\n",
    "'Poly PCA': "
   ]
  },
  {
   "cell_type": "markdown",
   "metadata": {},
   "source": [
    "### Poly SVM"
   ]
  },
  {
   "cell_type": "code",
   "execution_count": 160,
   "metadata": {
    "ExecuteTime": {
     "end_time": "2017-02-20T14:34:06.988610",
     "start_time": "2017-02-20T14:34:06.982093"
    },
    "collapsed": true
   },
   "outputs": [],
   "source": [
    "polyMetrics = []\n",
    "kernel = 'poly'\n",
    "clf = {'imagesTrans': [svm.SVC(C=1, degree=5, class_weight='balanced', gamma=0.0001, coef0=1, kernel=kernel), imagesTrans], \n",
    "       'kSigImageTrans' : [svm.SVC(C=1000.0, degree=4, class_weight='balanced', gamma=0.001, coef0=1, kernel=kernel), kSigImageTrans], \n",
    "       'kLinImageTrans' : [svm.SVC(C=1.0, degree=5, class_weight='balanced', gamma=0.0001, coef0=1, kernel=kernel), kLinImageTrans], \n",
    "       'kPolyImageTrans' : [svm.SVC(C=1000.0, degree=5, class_weight='balanced', gamma=0.001, coef0=1, kernel=kernel), kPolyImageTrans], \n",
    "       'kCosImageTrans' : [svm.SVC(C=1000.0, degree=5, class_weight='balanced', gamma=0.001, coef0=1, kernel=kernel), kCosImageTrans]}"
   ]
  },
  {
   "cell_type": "code",
   "execution_count": 161,
   "metadata": {
    "ExecuteTime": {
     "end_time": "2017-02-20T14:35:00.678488",
     "start_time": "2017-02-20T14:34:06.990601"
    },
    "scrolled": true
   },
   "outputs": [
    {
     "name": "stdout",
     "output_type": "stream",
     "text": [
      "Ttest_indResult(statistic=10.464407243285402, pvalue=2.7811663762096278e-08) True\n",
      "Ttest_indResult(statistic=-0.50734340249520649, pvalue=0.61822199446822879) False\n",
      "Ttest_indResult(statistic=5.9207335610785377, pvalue=1.3471446784639259e-05) True\n",
      "Ttest_indResult(statistic=8.3270479475283352, pvalue=3.4375459502596144e-07) True\n",
      "\n",
      "\n",
      "Ttest_indResult(statistic=-11.240541279108344, pvalue=2.8177871179532214e-08) True\n",
      "Ttest_indResult(statistic=-6.3023693727560222, pvalue=1.6941523889517752e-05) True\n",
      "Ttest_indResult(statistic=-2.3717252599748209, pvalue=0.029190295428033631) True\n",
      "\n",
      "\n",
      "Ttest_indResult(statistic=6.922319404814762, pvalue=1.8946538327855412e-06) True\n",
      "Ttest_indResult(statistic=9.1035007349083745, pvalue=2.2321231466327442e-07) True\n",
      "\n",
      "\n",
      "Ttest_indResult(statistic=3.8141869329339095, pvalue=0.0016320710754051358) True\n"
     ]
    }
   ],
   "source": [
    "for i in clf:\n",
    "    polyMetrics.append(kfoldFunction(pd.DataFrame(clf[i][1]), labelsSamp['labels'], clf[i][0], cv=10))\n",
    "metricsTest(polyMetrics)"
   ]
  },
  {
   "cell_type": "markdown",
   "metadata": {},
   "source": [
    "CHOICE:\n",
    "'PCA': "
   ]
  },
  {
   "cell_type": "markdown",
   "metadata": {},
   "source": [
    "## Modeling on PCA: Gaussian Blur"
   ]
  },
  {
   "cell_type": "markdown",
   "metadata": {},
   "source": [
    "### rbf SVM"
   ]
  },
  {
   "cell_type": "code",
   "execution_count": 162,
   "metadata": {
    "ExecuteTime": {
     "end_time": "2017-02-20T14:35:00.684482",
     "start_time": "2017-02-20T14:35:00.679478"
    },
    "collapsed": true
   },
   "outputs": [],
   "source": [
    "rbfMetricsG = []\n",
    "kernel = 'rbf'\n",
    "clf = {'imagesTransG': [svm.SVC(C=1, class_weight='balanced', gamma=0.001, kernel=kernel), imagesTransG], \n",
    "       'kSigImageTransG' : [svm.SVC(C=100000.0, class_weight='balanced', gamma=0.001, kernel=kernel), kSigImageTransG], \n",
    "       'kLinImageTransG' : [svm.SVC(C=1.0, class_weight='balanced', gamma=0.001, kernel=kernel), kLinImageTransG], \n",
    "       'kPolyImageTransG' : [svm.SVC(C=100000.0, class_weight='balanced', gamma=0.001, kernel=kernel), kPolyImageTransG], \n",
    "       'kCosImageTransG' : [svm.SVC(C=100000.0, class_weight='balanced', gamma=0.001, kernel=kernel), kCosImageTransG]}"
   ]
  },
  {
   "cell_type": "code",
   "execution_count": 163,
   "metadata": {
    "ExecuteTime": {
     "end_time": "2017-02-20T14:36:51.330532",
     "start_time": "2017-02-20T14:35:00.685484"
    },
    "scrolled": true
   },
   "outputs": [
    {
     "name": "stdout",
     "output_type": "stream",
     "text": [
      "Ttest_indResult(statistic=7.4400610568496646, pvalue=7.1286573898857957e-07) True\n",
      "Ttest_indResult(statistic=0.0, pvalue=1.0) False\n",
      "Ttest_indResult(statistic=3.3687377135038896, pvalue=0.0034271508828844122) True\n",
      "Ttest_indResult(statistic=1.8762057121506877, pvalue=0.077018752307887156) False\n",
      "\n",
      "\n",
      "Ttest_indResult(statistic=-7.4400610568496646, pvalue=7.1286573898857957e-07) True\n",
      "Ttest_indResult(statistic=-4.0887209557832431, pvalue=0.00069210313094316127) True\n",
      "Ttest_indResult(statistic=-5.200225831731367, pvalue=6.5240143021347131e-05) True\n",
      "\n",
      "\n",
      "Ttest_indResult(statistic=3.3687377135038896, pvalue=0.0034271508828844122) True\n",
      "Ttest_indResult(statistic=1.8762057121506877, pvalue=0.077018752307887156) False\n",
      "\n",
      "\n",
      "Ttest_indResult(statistic=-1.3308966138118132, pvalue=0.20004368517980417) False\n"
     ]
    }
   ],
   "source": [
    "for i in clf:\n",
    "    rbfMetricsG.append(kfoldFunction(pd.DataFrame(clf[i][1]), labelsSamp['labels'], clf[i][0], cv=10))\n",
    "metricsTest(rbfMetricsG)"
   ]
  },
  {
   "cell_type": "markdown",
   "metadata": {},
   "source": [
    "CHOICE:\n",
    "'PCA': "
   ]
  },
  {
   "cell_type": "markdown",
   "metadata": {},
   "source": [
    "### Sigmoid SVM"
   ]
  },
  {
   "cell_type": "code",
   "execution_count": 164,
   "metadata": {
    "ExecuteTime": {
     "end_time": "2017-02-20T14:36:51.339540",
     "start_time": "2017-02-20T14:36:51.332033"
    },
    "collapsed": true
   },
   "outputs": [],
   "source": [
    "sigMetricsG = []\n",
    "kernel = 'sigmoid'\n",
    "clf = {'imagesTransG': [svm.SVC(C=1, class_weight='balanced', gamma=0.0001, kernel=kernel), imagesTransG], \n",
    "       'kSigImageTransG' : [svm.SVC(C=100000.0, class_weight='balanced', gamma=0.0001, kernel=kernel), kSigImageTransG], \n",
    "       'kLinImageTransG' : [svm.SVC(C=1.0, class_weight='balanced', gamma=0.0001, kernel=kernel), kLinImageTransG], \n",
    "       'kPolyImageTransG' : [svm.SVC(C=1000.0, class_weight='balanced', gamma=0.001, kernel=kernel), kPolyImageTransG], \n",
    "       'kCosImageTransG' : [svm.SVC(C=1000.0, class_weight='balanced', gamma=0.001, kernel=kernel), kCosImageTransG]}"
   ]
  },
  {
   "cell_type": "code",
   "execution_count": 165,
   "metadata": {
    "ExecuteTime": {
     "end_time": "2017-02-20T14:37:35.253376",
     "start_time": "2017-02-20T14:36:51.341543"
    },
    "scrolled": true
   },
   "outputs": [
    {
     "name": "stdout",
     "output_type": "stream",
     "text": [
      "Ttest_indResult(statistic=0.29773257907841955, pvalue=0.76940265427983334) False\n",
      "Ttest_indResult(statistic=0.0, pvalue=1.0) False\n",
      "Ttest_indResult(statistic=-0.51162358351286097, pvalue=0.61531739632598437) False\n",
      "Ttest_indResult(statistic=-0.74530487594859085, pvalue=0.46651961641653883) False\n",
      "\n",
      "\n",
      "Ttest_indResult(statistic=-0.29773257907841955, pvalue=0.76940265427983334) False\n",
      "Ttest_indResult(statistic=-0.78068889511261297, pvalue=0.44617972990586474) False\n",
      "Ttest_indResult(statistic=-0.95625061107832476, pvalue=0.35185416185895346) False\n",
      "\n",
      "\n",
      "Ttest_indResult(statistic=-0.51162358351286097, pvalue=0.61531739632598437) False\n",
      "Ttest_indResult(statistic=-0.74530487594859085, pvalue=0.46651961641653883) False\n",
      "\n",
      "\n",
      "Ttest_indResult(statistic=-0.36748909032957244, pvalue=0.71836987224353188) False\n"
     ]
    }
   ],
   "source": [
    "for i in clf:\n",
    "    sigMetricsG.append(kfoldFunction(pd.DataFrame(clf[i][1]), labelsSamp['labels'], clf[i][0], cv=10))\n",
    "metricsTest(sigMetricsG)"
   ]
  },
  {
   "cell_type": "markdown",
   "metadata": {},
   "source": [
    "CHOICE:\n",
    "'PCA': "
   ]
  },
  {
   "cell_type": "markdown",
   "metadata": {},
   "source": [
    "### Poly SVM"
   ]
  },
  {
   "cell_type": "code",
   "execution_count": 166,
   "metadata": {
    "ExecuteTime": {
     "end_time": "2017-02-20T14:37:35.261372",
     "start_time": "2017-02-20T14:37:35.254366"
    },
    "collapsed": true
   },
   "outputs": [],
   "source": [
    "polyMetricsG = []\n",
    "kernel = 'poly'\n",
    "clf = {'imagesTransG': [svm.SVC(C=1, degree=5, class_weight='balanced', gamma=0.0005, coef0=.5, kernel=kernel), imagesTransG], \n",
    "       'kSigImageTransG' : [svm.SVC(C=100000.0, degree=5, class_weight='balanced', gamma=0.001, coef0=1, kernel=kernel), kSigImageTransG], \n",
    "       'kLinImageTransG' : [svm.SVC(C=1.0, degree=5, class_weight='balanced', gamma=0.0005, coef0=.5, kernel=kernel), kLinImageTransG], \n",
    "       'kPolyImageTransG' : [svm.SVC(C=100000.0, degree=5, class_weight='balanced', gamma=0.001, coef0=1, kernel=kernel), kPolyImageTransG], \n",
    "       'kCosImageTransG' : [svm.SVC(C=100000.0, degree=5, class_weight='balanced', gamma=0.001, coef0=1, kernel=kernel), kCosImageTransG]}"
   ]
  },
  {
   "cell_type": "code",
   "execution_count": 167,
   "metadata": {
    "ExecuteTime": {
     "end_time": "2017-02-20T14:40:55.616081",
     "start_time": "2017-02-20T14:37:35.262374"
    },
    "scrolled": true
   },
   "outputs": [
    {
     "name": "stdout",
     "output_type": "stream",
     "text": [
      "Ttest_indResult(statistic=5.1188827852417678, pvalue=7.1923816898350582e-05) True\n",
      "Ttest_indResult(statistic=0.0, pvalue=1.0) False\n",
      "Ttest_indResult(statistic=2.2052416634541951, pvalue=0.040910701843451754) True\n",
      "Ttest_indResult(statistic=0.8527353204624778, pvalue=0.40626607795009517) False\n",
      "\n",
      "\n",
      "Ttest_indResult(statistic=-5.1188827852417678, pvalue=7.1923816898350582e-05) True\n",
      "Ttest_indResult(statistic=-2.5461424301246662, pvalue=0.020493700483828533) True\n",
      "Ttest_indResult(statistic=-3.2943677852356381, pvalue=0.0045792641465507633) True\n",
      "\n",
      "\n",
      "Ttest_indResult(statistic=2.2052416634541951, pvalue=0.040910701843451754) True\n",
      "Ttest_indResult(statistic=0.8527353204624778, pvalue=0.40626607795009517) False\n",
      "\n",
      "\n",
      "Ttest_indResult(statistic=-1.0219244035981063, pvalue=0.32098805771474892) False\n"
     ]
    }
   ],
   "source": [
    "for i in clf:\n",
    "    polyMetricsG.append(kfoldFunction(pd.DataFrame(clf[i][1]), labelsSamp['labels'], clf[i][0], cv=10))\n",
    "metricsTest(polyMetricsG)"
   ]
  },
  {
   "cell_type": "markdown",
   "metadata": {},
   "source": [
    "CHOICE:\n",
    "'PCA': "
   ]
  },
  {
   "cell_type": "markdown",
   "metadata": {},
   "source": [
    "### Raw Pixels"
   ]
  },
  {
   "cell_type": "code",
   "execution_count": 168,
   "metadata": {
    "ExecuteTime": {
     "end_time": "2017-02-20T14:44:13.545598",
     "start_time": "2017-02-20T14:44:13.540592"
    }
   },
   "outputs": [
    {
     "name": "stdout",
     "output_type": "stream",
     "text": [
      "Ttest_indResult(statistic=9.2463822063437284, pvalue=2.9407046369719017e-08)\n",
      "Ttest_indResult(statistic=0.34605541471153378, pvalue=0.73331301071331534)\n",
      "\n",
      "\n",
      "Ttest_indResult(statistic=-9.2063024248945329, pvalue=3.1388753942274763e-08)\n"
     ]
    }
   ],
   "source": [
    "print(ttest_ind(rbfMetrics[0]['accuracy'], sigMetrics[4]['accuracy']))\n",
    "print(ttest_ind(rbfMetrics[0]['accuracy'], polyMetrics[0]['accuracy']))\n",
    "print('\\n')\n",
    "print(ttest_ind(sigMetrics[4]['accuracy'], polyMetrics[0]['accuracy']))"
   ]
  },
  {
   "cell_type": "markdown",
   "metadata": {},
   "source": [
    "CHOICE: 'rbf SVM: PCA'"
   ]
  },
  {
   "cell_type": "markdown",
   "metadata": {},
   "source": [
    "### Gaussian Blur Pixels"
   ]
  },
  {
   "cell_type": "code",
   "execution_count": 169,
   "metadata": {
    "ExecuteTime": {
     "end_time": "2017-02-20T14:44:47.186534",
     "start_time": "2017-02-20T14:44:47.181040"
    },
    "scrolled": true
   },
   "outputs": [
    {
     "name": "stdout",
     "output_type": "stream",
     "text": [
      "Ttest_indResult(statistic=9.1660865617308591, pvalue=3.3517842608840459e-08)\n",
      "Ttest_indResult(statistic=0.40648639297028777, pvalue=0.68917747905820514)\n",
      "\n",
      "\n",
      "Ttest_indResult(statistic=-9.5399430777667718, pvalue=1.8344116347262663e-08)\n"
     ]
    }
   ],
   "source": [
    "print(ttest_ind(rbfMetricsG[0]['accuracy'], sigMetricsG[0]['accuracy']))\n",
    "print(ttest_ind(rbfMetricsG[0]['accuracy'], polyMetricsG[0]['accuracy']))\n",
    "print('\\n')\n",
    "print(ttest_ind(sigMetricsG[0]['accuracy'], polyMetricsG[0]['accuracy']))"
   ]
  },
  {
   "cell_type": "markdown",
   "metadata": {},
   "source": [
    "CHOICE: 'rbf SVM: PCA'"
   ]
  },
  {
   "cell_type": "markdown",
   "metadata": {},
   "source": [
    "### Raw vs Gaussian"
   ]
  },
  {
   "cell_type": "code",
   "execution_count": 170,
   "metadata": {
    "ExecuteTime": {
     "end_time": "2017-02-20T14:45:04.937549",
     "start_time": "2017-02-20T14:45:04.934034"
    }
   },
   "outputs": [
    {
     "name": "stdout",
     "output_type": "stream",
     "text": [
      "Ttest_indResult(statistic=4.7504742327547742, pvalue=0.00015978438169250256)\n"
     ]
    }
   ],
   "source": [
    "print(ttest_ind(rbfMetrics[0]['accuracy'], rbfMetricsG[0]['accuracy']))"
   ]
  },
  {
   "cell_type": "markdown",
   "metadata": {},
   "source": [
    "CHOICE: 'rbf SVM: PCA'"
   ]
  },
  {
   "cell_type": "markdown",
   "metadata": {},
   "source": [
    "# Final Model"
   ]
  },
  {
   "cell_type": "code",
   "execution_count": 14,
   "metadata": {
    "ExecuteTime": {
     "end_time": "2017-02-20T18:15:45.599117",
     "start_time": "2017-02-20T18:15:41.148058"
    }
   },
   "outputs": [],
   "source": [
    "pca = PCA(n_components=50)\n",
    "pca.fit(images)\n",
    "imagesTrans = pca.fit_transform(images)"
   ]
  },
  {
   "cell_type": "code",
   "execution_count": 15,
   "metadata": {
    "ExecuteTime": {
     "end_time": "2017-02-20T18:15:45.717833",
     "start_time": "2017-02-20T18:15:45.600119"
    },
    "scrolled": false
   },
   "outputs": [
    {
     "data": {
      "text/plain": [
       "<matplotlib.axes._subplots.AxesSubplot at 0x1aaf9f86a20>"
      ]
     },
     "execution_count": 15,
     "metadata": {},
     "output_type": "execute_result"
    },
    {
     "data": {
      "image/png": "[encoded data removed]",
      "text/plain": [
       "<matplotlib.figure.Figure at 0x1aa81d8cbe0>"
      ]
     },
     "metadata": {},
     "output_type": "display_data"
    }
   ],
   "source": [
    "pd.DataFrame(pca.explained_variance_ratio_.cumsum(), columns = ['variance']).plot()"
   ]
  },
  {
   "cell_type": "code",
   "execution_count": 203,
   "metadata": {
    "ExecuteTime": {
     "end_time": "2017-02-20T16:31:54.124014",
     "start_time": "2017-02-20T16:26:46.189048"
    },
    "scrolled": false
   },
   "outputs": [
    {
     "name": "stderr",
     "output_type": "stream",
     "text": [
      "C:\\Anaconda3\\lib\\site-packages\\sklearn\\utils\\validation.py:526: DataConversionWarning: A column-vector y was passed when a 1d array was expected. Please change the shape of y to (n_samples, ), for example using ravel().\n",
      "  y = column_or_1d(y, warn=True)\n"
     ]
    },
    {
     "name": "stdout",
     "output_type": "stream",
     "text": [
      "Accuracy: 0.757 \n",
      "\n",
      "             precision    recall  f1-score   support\n",
      "\n",
      "          0       0.80      0.77      0.78       514\n",
      "          1       0.80      0.83      0.81       465\n",
      "          2       0.72      0.66      0.69       524\n",
      "          3       0.71      0.78      0.74       497\n",
      "\n",
      "avg / total       0.76      0.76      0.76      2000\n",
      "\n",
      "     0    1    2    3\n",
      "0  394   45   44   31\n",
      "1   28  388   20   29\n",
      "2   56   24  346   98\n",
      "3   12   31   68  386 \n",
      "\n",
      "\n",
      "\n",
      "Accuracy: 0.7525 \n",
      "\n",
      "             precision    recall  f1-score   support\n",
      "\n",
      "          0       0.77      0.80      0.79       486\n",
      "          1       0.81      0.79      0.80       502\n",
      "          2       0.73      0.66      0.69       501\n",
      "          3       0.70      0.76      0.73       511\n",
      "\n",
      "avg / total       0.75      0.75      0.75      2000\n",
      "\n",
      "     0    1    2    3\n",
      "0  390   40   32   24\n",
      "1   48  398   18   38\n",
      "2   50   20  329  102\n",
      "3   19   33   71  388 \n",
      "\n",
      "\n",
      "\n",
      "Accuracy: 0.734 \n",
      "\n",
      "             precision    recall  f1-score   support\n",
      "\n",
      "          0       0.75      0.74      0.74       495\n",
      "          1       0.80      0.82      0.81       506\n",
      "          2       0.69      0.65      0.67       509\n",
      "          3       0.70      0.72      0.71       490\n",
      "\n",
      "avg / total       0.73      0.73      0.73      2000\n",
      "\n",
      "     0    1    2    3\n",
      "0  367   41   54   33\n",
      "1   40  414   22   30\n",
      "2   61   23  333   92\n",
      "3   24   39   73  354 \n",
      "\n",
      "\n",
      "\n",
      "Accuracy: 0.7425 \n",
      "\n",
      "             precision    recall  f1-score   support\n",
      "\n",
      "          0       0.76      0.76      0.76       488\n",
      "          1       0.82      0.81      0.81       501\n",
      "          2       0.70      0.66      0.68       499\n",
      "          3       0.70      0.74      0.72       512\n",
      "\n",
      "avg / total       0.74      0.74      0.74      2000\n",
      "\n",
      "     0    1    2    3\n",
      "0  373   47   46   22\n",
      "1   34  405   20   42\n",
      "2   61   11  328   99\n",
      "3   26   30   77  379 \n",
      "\n",
      "\n",
      "\n",
      "Accuracy: 0.752 \n",
      "\n",
      "             precision    recall  f1-score   support\n",
      "\n",
      "          0       0.79      0.75      0.77       500\n",
      "          1       0.83      0.84      0.83       532\n",
      "          2       0.71      0.65      0.68       468\n",
      "          3       0.68      0.75      0.72       500\n",
      "\n",
      "avg / total       0.75      0.75      0.75      2000\n",
      "\n",
      "     0    1    2    3\n",
      "0  375   51   28   46\n",
      "1   40  448   12   32\n",
      "2   43   24  306   95\n",
      "3   18   20   87  375 \n",
      "\n",
      "\n",
      "\n",
      "Accuracy: 0.7485 \n",
      "\n",
      "             precision    recall  f1-score   support\n",
      "\n",
      "          0       0.76      0.76      0.76       497\n",
      "          1       0.84      0.83      0.83       508\n",
      "          2       0.72      0.65      0.69       502\n",
      "          3       0.68      0.75      0.71       493\n",
      "\n",
      "avg / total       0.75      0.75      0.75      2000\n",
      "\n",
      "     0    1    2    3\n",
      "0  379   35   49   34\n",
      "1   44  421    9   34\n",
      "2   48   18  327  109\n",
      "3   27   29   67  370 \n",
      "\n",
      "\n",
      "\n",
      "Accuracy: 0.7235 \n",
      "\n",
      "             precision    recall  f1-score   support\n",
      "\n",
      "          0       0.74      0.76      0.75       486\n",
      "          1       0.78      0.81      0.79       498\n",
      "          2       0.73      0.59      0.65       533\n",
      "          3       0.65      0.75      0.70       483\n",
      "\n",
      "avg / total       0.73      0.72      0.72      2000\n",
      "\n",
      "     0    1    2    3\n",
      "0  368   50   32   36\n",
      "1   39  404   20   35\n",
      "2   63   36  314  120\n",
      "3   26   31   65  361 \n",
      "\n",
      "\n",
      "\n",
      "Accuracy: 0.7405 \n",
      "\n",
      "             precision    recall  f1-score   support\n",
      "\n",
      "          0       0.79      0.77      0.78       519\n",
      "          1       0.80      0.84      0.82       473\n",
      "          2       0.70      0.62      0.66       510\n",
      "          3       0.68      0.74      0.71       498\n",
      "\n",
      "avg / total       0.74      0.74      0.74      2000\n",
      "\n",
      "     0    1    2    3\n",
      "0  399   47   45   28\n",
      "1   28  395   18   32\n",
      "2   57   23  317  113\n",
      "3   24   28   76  370 \n",
      "\n",
      "\n",
      "\n",
      "Accuracy: 0.729 \n",
      "\n",
      "             precision    recall  f1-score   support\n",
      "\n",
      "          0       0.78      0.74      0.76       516\n",
      "          1       0.79      0.82      0.80       518\n",
      "          2       0.68      0.61      0.64       474\n",
      "          3       0.66      0.73      0.70       492\n",
      "\n",
      "avg / total       0.73      0.73      0.73      2000\n",
      "\n",
      "     0    1    2    3\n",
      "0  381   56   42   37\n",
      "1   38  426   20   34\n",
      "2   49   23  290  112\n",
      "3   18   36   77  361 \n",
      "\n",
      "\n",
      "\n",
      "Accuracy: 0.7465 \n",
      "\n",
      "             precision    recall  f1-score   support\n",
      "\n",
      "          0       0.76      0.77      0.77       499\n",
      "          1       0.81      0.82      0.82       497\n",
      "          2       0.69      0.65      0.67       480\n",
      "          3       0.72      0.74      0.73       524\n",
      "\n",
      "avg / total       0.75      0.75      0.75      2000\n",
      "\n",
      "     0    1    2    3\n",
      "0  386   48   43   22\n",
      "1   39  407   18   33\n",
      "2   50   21  313   96\n",
      "3   35   24   78  387 \n",
      "\n",
      "\n",
      "\n"
     ]
    },
    {
     "name": "stderr",
     "output_type": "stream",
     "text": [
      "C:\\Anaconda3\\lib\\site-packages\\seaborn\\categorical.py:2171: UserWarning: The boxplot API has been changed. Attempting to adjust your arguments for the new API (which might not work). Please update your code. See the version 0.6 release notes for more info.\n",
      "  warnings.warn(msg, UserWarning)\n"
     ]
    },
    {
     "data": {
      "image/png": "[encoded data removed]",
      "text/plain": [
       "<matplotlib.figure.Figure at 0x2529dd696d8>"
      ]
     },
     "metadata": {},
     "output_type": "display_data"
    }
   ],
   "source": [
    "clf = svm.SVC(C=1, class_weight='balanced', gamma=0.001)\n",
    "rbfMetrics = kfoldFunction(pd.DataFrame(imagesTrans), labels, clf, cv=10, plot=True, verbose=True)"
   ]
  },
  {
   "cell_type": "code",
   "execution_count": 57,
   "metadata": {
    "ExecuteTime": {
     "end_time": "2017-02-20T16:38:59.297587",
     "start_time": "2017-02-20T16:33:20.662296"
    },
    "scrolled": false
   },
   "outputs": [
    {
     "name": "stderr",
     "output_type": "stream",
     "text": [
      "/Users/lukasz.filipek/anaconda3/lib/python3.6/site-packages/ipykernel_launcher.py:34: DataConversionWarning: A column-vector y was passed when a 1d array was expected. Please change the shape of y to (n_samples,), for example using ravel().\n"
     ]
    },
    {
     "name": "stdout",
     "output_type": "stream",
     "text": [
      "Accuracy ..... 0.244 \n",
      "\n",
      "Classification Report ..... \n",
      "\n",
      "             precision    recall  f1-score   support\n",
      "\n",
      "          0       0.23      0.20      0.21       254\n",
      "          1       0.22      0.13      0.16       244\n",
      "          2       0.28      0.34      0.31       256\n",
      "          3       0.24      0.30      0.26       246\n",
      "\n",
      "avg / total       0.24      0.24      0.24      1000\n",
      "\n",
      "Confusion Matrix ..... \n",
      "\n",
      "    0   1   2   3\n",
      "0  52  44  81  77\n",
      "1  65  31  67  81\n",
      "2  52  38  88  78\n",
      "3  62  31  80  73 \n",
      "\n",
      "\n",
      "\n"
     ]
    },
    {
     "name": "stderr",
     "output_type": "stream",
     "text": [
      "/Users/lukasz.filipek/anaconda3/lib/python3.6/site-packages/ipykernel_launcher.py:34: DataConversionWarning: A column-vector y was passed when a 1d array was expected. Please change the shape of y to (n_samples,), for example using ravel().\n"
     ]
    },
    {
     "name": "stdout",
     "output_type": "stream",
     "text": [
      "Accuracy ..... 0.24 \n",
      "\n",
      "Classification Report ..... \n",
      "\n",
      "             precision    recall  f1-score   support\n",
      "\n",
      "          0       0.23      0.19      0.21       260\n",
      "          1       0.18      0.20      0.19       221\n",
      "          2       0.29      0.25      0.27       268\n",
      "          3       0.26      0.32      0.28       251\n",
      "\n",
      "avg / total       0.24      0.24      0.24      1000\n",
      "\n",
      "Confusion Matrix ..... \n",
      "\n",
      "    0   1   2   3\n",
      "0  49  78  57  76\n",
      "1  50  44  55  72\n",
      "2  54  63  67  84\n",
      "3  57  65  49  80 \n",
      "\n",
      "\n",
      "\n"
     ]
    },
    {
     "name": "stderr",
     "output_type": "stream",
     "text": [
      "/Users/lukasz.filipek/anaconda3/lib/python3.6/site-packages/ipykernel_launcher.py:34: DataConversionWarning: A column-vector y was passed when a 1d array was expected. Please change the shape of y to (n_samples,), for example using ravel().\n"
     ]
    },
    {
     "name": "stdout",
     "output_type": "stream",
     "text": [
      "Accuracy ..... 0.229 \n",
      "\n",
      "Classification Report ..... \n",
      "\n",
      "             precision    recall  f1-score   support\n",
      "\n",
      "          0       0.19      0.27      0.23       233\n",
      "          1       0.17      0.11      0.13       253\n",
      "          2       0.24      0.29      0.26       245\n",
      "          3       0.30      0.25      0.28       269\n",
      "\n",
      "avg / total       0.23      0.23      0.22      1000\n",
      "\n",
      "Confusion Matrix ..... \n",
      "\n",
      "    0   1   2   3\n",
      "0  64  37  73  59\n",
      "1  92  27  85  49\n",
      "2  80  48  70  47\n",
      "3  95  45  61  68 \n",
      "\n",
      "\n",
      "\n"
     ]
    },
    {
     "name": "stderr",
     "output_type": "stream",
     "text": [
      "/Users/lukasz.filipek/anaconda3/lib/python3.6/site-packages/ipykernel_launcher.py:34: DataConversionWarning: A column-vector y was passed when a 1d array was expected. Please change the shape of y to (n_samples,), for example using ravel().\n"
     ]
    },
    {
     "name": "stdout",
     "output_type": "stream",
     "text": [
      "Accuracy ..... 0.243 \n",
      "\n",
      "Classification Report ..... \n",
      "\n",
      "             precision    recall  f1-score   support\n",
      "\n",
      "          0       0.26      0.27      0.27       253\n",
      "          1       0.20      0.14      0.17       249\n",
      "          2       0.25      0.27      0.26       256\n",
      "          3       0.24      0.29      0.26       242\n",
      "\n",
      "avg / total       0.24      0.24      0.24      1000\n",
      "\n",
      "Confusion Matrix ..... \n",
      "\n",
      "    0   1   2   3\n",
      "0  69  46  59  79\n",
      "1  73  35  79  62\n",
      "2  54  48  68  86\n",
      "3  66  42  63  71 \n",
      "\n",
      "\n",
      "\n"
     ]
    },
    {
     "name": "stderr",
     "output_type": "stream",
     "text": [
      "/Users/lukasz.filipek/anaconda3/lib/python3.6/site-packages/ipykernel_launcher.py:34: DataConversionWarning: A column-vector y was passed when a 1d array was expected. Please change the shape of y to (n_samples,), for example using ravel().\n"
     ]
    },
    {
     "name": "stdout",
     "output_type": "stream",
     "text": [
      "Accuracy ..... 0.244 \n",
      "\n",
      "Classification Report ..... \n",
      "\n",
      "             precision    recall  f1-score   support\n",
      "\n",
      "          0       0.27      0.24      0.25       259\n",
      "          1       0.26      0.15      0.19       249\n",
      "          2       0.23      0.33      0.27       234\n",
      "          3       0.24      0.27      0.25       258\n",
      "\n",
      "avg / total       0.25      0.24      0.24      1000\n",
      "\n",
      "Confusion Matrix ..... \n",
      "\n",
      "    0   1   2   3\n",
      "0  61  35  91  72\n",
      "1  52  37  86  74\n",
      "2  43  37  77  77\n",
      "3  71  33  85  69 \n",
      "\n",
      "\n",
      "\n"
     ]
    },
    {
     "name": "stderr",
     "output_type": "stream",
     "text": [
      "/Users/lukasz.filipek/anaconda3/lib/python3.6/site-packages/seaborn/categorical.py:462: FutureWarning: remove_na is deprecated and is a private function. Do not use.\n",
      "  box_data = remove_na(group_data)\n"
     ]
    },
    {
     "data": {
      "image/png": "[encoded data removed]",
      "text/plain": [
       "<matplotlib.figure.Figure at 0x1c2dd8cd68>"
      ]
     },
     "metadata": {},
     "output_type": "display_data"
    }
   ],
   "source": [
    "rfc = RandomForestClassifier(n_estimators=500, criterion='entropy', max_depth=20, n_jobs=-1)\n",
    "kf = kFold(cv=5)\n",
    "kf.fit(pd.DataFrame(imagesTrans), labels, rfc, plot=True, verbose=True)\n",
    "# rfcMetrics = kfoldFunction(pd.DataFrame(imagesTrans), labels, rfc, cv=10, plot=True, verbose=True)"
   ]
  },
  {
   "cell_type": "markdown",
   "metadata": {},
   "source": [
    "# Analyzing Birds"
   ]
  },
  {
   "cell_type": "markdown",
   "metadata": {
    "ExecuteTime": {
     "end_time": "2017-02-20T16:52:41.909888",
     "start_time": "2017-02-20T16:52:41.907886"
    }
   },
   "source": [
    "## Bird"
   ]
  },
  {
   "cell_type": "code",
   "execution_count": 206,
   "metadata": {
    "ExecuteTime": {
     "end_time": "2017-02-20T16:44:09.647827",
     "start_time": "2017-02-20T16:44:09.645337"
    }
   },
   "outputs": [],
   "source": [
    "imagesTrans = pd.DataFrame(imagesTrans)"
   ]
  },
  {
   "cell_type": "code",
   "execution_count": 275,
   "metadata": {
    "ExecuteTime": {
     "end_time": "2017-02-20T17:05:17.203868",
     "start_time": "2017-02-20T17:05:17.195861"
    }
   },
   "outputs": [],
   "source": [
    "bird = labels.query('labels == 2')\n",
    "birdImages = imagesTrans.iloc[bird.index]"
   ]
  },
  {
   "cell_type": "code",
   "execution_count": 276,
   "metadata": {
    "ExecuteTime": {
     "end_time": "2017-02-20T17:05:17.358566",
     "start_time": "2017-02-20T17:05:17.356063"
    }
   },
   "outputs": [],
   "source": [
    "birdImagesMean = birdImages.mean(axis=0)"
   ]
  },
  {
   "cell_type": "code",
   "execution_count": 277,
   "metadata": {
    "ExecuteTime": {
     "end_time": "2017-02-20T17:05:17.521411",
     "start_time": "2017-02-20T17:05:17.516406"
    }
   },
   "outputs": [
    {
     "data": {
      "text/plain": [
       "0     2.980220\n",
       "13    2.782213\n",
       "4     1.928870\n",
       "11    1.043678\n",
       "1     0.972945\n",
       "dtype: float64"
      ]
     },
     "execution_count": 277,
     "metadata": {},
     "output_type": "execute_result"
    }
   ],
   "source": [
    "birdImagesMean.sort_values(ascending=False).head()"
   ]
  },
  {
   "cell_type": "markdown",
   "metadata": {},
   "source": [
    "## Cat and Airplane"
   ]
  },
  {
   "cell_type": "code",
   "execution_count": 278,
   "metadata": {
    "ExecuteTime": {
     "end_time": "2017-02-20T17:05:17.835588",
     "start_time": "2017-02-20T17:05:17.826568"
    }
   },
   "outputs": [],
   "source": [
    "plane = labels.query('labels == 0')\n",
    "planeImages = imagesTrans.iloc[plane.index]"
   ]
  },
  {
   "cell_type": "code",
   "execution_count": 279,
   "metadata": {
    "ExecuteTime": {
     "end_time": "2017-02-20T17:05:17.999153",
     "start_time": "2017-02-20T17:05:17.996650"
    }
   },
   "outputs": [],
   "source": [
    "planeImagesMean = planeImages.mean(axis=0)"
   ]
  },
  {
   "cell_type": "code",
   "execution_count": 280,
   "metadata": {
    "ExecuteTime": {
     "end_time": "2017-02-20T17:05:18.184917",
     "start_time": "2017-02-20T17:05:18.179913"
    },
    "scrolled": true
   },
   "outputs": [
    {
     "data": {
      "text/plain": [
       "2     9.339375\n",
       "1     2.838645\n",
       "5     1.331650\n",
       "15    1.044554\n",
       "11    1.005483\n",
       "dtype: float64"
      ]
     },
     "execution_count": 280,
     "metadata": {},
     "output_type": "execute_result"
    }
   ],
   "source": [
    "planeImagesMean.sort_values(ascending=False).head()"
   ]
  },
  {
   "cell_type": "code",
   "execution_count": 281,
   "metadata": {
    "ExecuteTime": {
     "end_time": "2017-02-20T17:05:19.587256",
     "start_time": "2017-02-20T17:05:19.579249"
    }
   },
   "outputs": [],
   "source": [
    "cat = labels.query('labels == 3')\n",
    "catImages = imagesTrans.iloc[cat.index]"
   ]
  },
  {
   "cell_type": "code",
   "execution_count": 282,
   "metadata": {
    "ExecuteTime": {
     "end_time": "2017-02-20T17:05:19.750772",
     "start_time": "2017-02-20T17:05:19.747771"
    }
   },
   "outputs": [],
   "source": [
    "catImagesMean = catImages.mean(axis=0)"
   ]
  },
  {
   "cell_type": "code",
   "execution_count": 283,
   "metadata": {
    "ExecuteTime": {
     "end_time": "2017-02-20T17:05:20.159879",
     "start_time": "2017-02-20T17:05:20.155376"
    }
   },
   "outputs": [
    {
     "data": {
      "text/plain": [
       "0     9.001027\n",
       "5     2.621077\n",
       "9     1.455403\n",
       "1     0.686205\n",
       "46    0.593547\n",
       "dtype: float64"
      ]
     },
     "execution_count": 283,
     "metadata": {},
     "output_type": "execute_result"
    }
   ],
   "source": [
    "catImagesMean.sort_values(ascending=False).head()"
   ]
  },
  {
   "cell_type": "markdown",
   "metadata": {},
   "source": [
    "## Components"
   ]
  },
  {
   "cell_type": "code",
   "execution_count": 261,
   "metadata": {
    "ExecuteTime": {
     "end_time": "2017-02-20T17:04:08.645517",
     "start_time": "2017-02-20T17:04:08.516894"
    }
   },
   "outputs": [
    {
     "data": {
      "text/plain": [
       "<matplotlib.axes._subplots.AxesSubplot at 0x2529ee70cc0>"
      ]
     },
     "execution_count": 261,
     "metadata": {},
     "output_type": "execute_result"
    },
    {
     "data": {
      "image/png": "[encoded data removed]",
      "text/plain": [
       "<matplotlib.figure.Figure at 0x2529d5eea20>"
      ]
     },
     "metadata": {},
     "output_type": "display_data"
    }
   ],
   "source": [
    "pd.Series(pca.components_[0]).plot()"
   ]
  },
  {
   "cell_type": "code",
   "execution_count": 296,
   "metadata": {
    "ExecuteTime": {
     "end_time": "2017-02-20T17:13:42.254459",
     "start_time": "2017-02-20T17:13:42.123845"
    },
    "scrolled": true
   },
   "outputs": [
    {
     "data": {
      "text/plain": [
       "<matplotlib.axes._subplots.AxesSubplot at 0x252a5187da0>"
      ]
     },
     "execution_count": 296,
     "metadata": {},
     "output_type": "execute_result"
    },
    {
     "data": {
      "image/png": "[encoded data removed]",
      "text/plain": [
       "<matplotlib.figure.Figure at 0x252a5227128>"
      ]
     },
     "metadata": {},
     "output_type": "display_data"
    }
   ],
   "source": [
    "pd.Series(pca.components_[1]).plot()"
   ]
  },
  {
   "cell_type": "code",
   "execution_count": 16,
   "metadata": {
    "ExecuteTime": {
     "end_time": "2017-02-20T18:15:51.883979",
     "start_time": "2017-02-20T18:15:51.780195"
    }
   },
   "outputs": [
    {
     "data": {
      "text/plain": [
       "<matplotlib.image.AxesImage at 0x1aa90a6ab38>"
      ]
     },
     "execution_count": 16,
     "metadata": {},
     "output_type": "execute_result"
    },
    {
     "data": {
      "image/png": "[encoded data removed]",
      "text/plain": [
       "<matplotlib.figure.Figure at 0x1aa87721668>"
      ]
     },
     "metadata": {},
     "output_type": "display_data"
    }
   ],
   "source": [
    "plt.imshow(pca.components_[0].reshape((3,1024)).swapaxes(0,1).reshape((32,32,3)))"
   ]
  },
  {
   "cell_type": "code",
   "execution_count": 17,
   "metadata": {
    "ExecuteTime": {
     "end_time": "2017-02-20T18:16:42.712868",
     "start_time": "2017-02-20T18:16:42.612465"
    },
    "scrolled": true
   },
   "outputs": [
    {
     "data": {
      "text/plain": [
       "<matplotlib.image.AxesImage at 0x1aa90b1d518>"
      ]
     },
     "execution_count": 17,
     "metadata": {},
     "output_type": "execute_result"
    },
    {
     "data": {
      "image/png": "[encoded data removed]",
      "text/plain": [
       "<matplotlib.figure.Figure at 0x1aa90a97358>"
      ]
     },
     "metadata": {},
     "output_type": "display_data"
    }
   ],
   "source": [
    "plt.imshow(pca.components_[1].reshape((3,1024)).swapaxes(0,1).reshape((32,32,3)))"
   ]
  }
 ],
 "metadata": {
  "anaconda-cloud": {},
  "kernelspec": {
   "display_name": "Python 3",
   "language": "python",
   "name": "python3"
  },
  "language_info": {
   "codemirror_mode": {
    "name": "ipython",
    "version": 3
   },
   "file_extension": ".py",
   "mimetype": "text/x-python",
   "name": "python",
   "nbconvert_exporter": "python",
   "pygments_lexer": "ipython3",
   "version": "3.6.3"
  },
  "toc": {
   "colors": {
    "hover_highlight": "#DAA520",
    "running_highlight": "#FF0000",
    "selected_highlight": "#FFD700"
   },
   "moveMenuLeft": true,
   "nav_menu": {
    "height": "12px",
    "width": "252px"
   },
   "navigate_menu": true,
   "number_sections": true,
   "sideBar": true,
   "threshold": 4,
   "toc_cell": false,
   "toc_section_display": "block",
   "toc_window_display": false
  }
 },
 "nbformat": 4,
 "nbformat_minor": 1
}
